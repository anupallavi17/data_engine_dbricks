{
 "cells": [
  {
   "cell_type": "code",
   "execution_count": 7,
   "id": "814e0156-b1f8-4477-a059-4893eadd71ea",
   "metadata": {},
   "outputs": [],
   "source": [
    "import pandas as pd\n",
    "import numpy as np\n",
    "import datetime as dt\n",
    "from matplotlib import pyplot as plt\n",
    "from scipy import stats as stats\n",
    "import seaborn as sns\n",
    "%matplotlib inline"
   ]
  },
  {
   "cell_type": "markdown",
   "id": "9bea80a5-459c-4d31-959c-b3ebb4550b72",
   "metadata": {},
   "source": [
    "##### 1.Import claims_data.csv and cust_data.csv which is provided to you and combine the two datasets appropriately to create a 360-degree view of the data. Use the same for the subsequent questions"
   ]
  },
  {
   "cell_type": "code",
   "execution_count": 9,
   "id": "649277b8-9b7d-4c9c-a35c-d5c1c7bf48c5",
   "metadata": {},
   "outputs": [],
   "source": [
    "claim_data=pd.read_csv('claims.csv')\n",
    "cust_data = pd.read_csv('cust_demographics.csv')"
   ]
  },
  {
   "cell_type": "code",
   "execution_count": 10,
   "id": "01846187-7def-4b59-9be0-c9a83076e7e7",
   "metadata": {},
   "outputs": [
    {
     "data": {
      "text/html": [
       "<div>\n",
       "<style scoped>\n",
       "    .dataframe tbody tr th:only-of-type {\n",
       "        vertical-align: middle;\n",
       "    }\n",
       "\n",
       "    .dataframe tbody tr th {\n",
       "        vertical-align: top;\n",
       "    }\n",
       "\n",
       "    .dataframe thead th {\n",
       "        text-align: right;\n",
       "    }\n",
       "</style>\n",
       "<table border=\"1\" class=\"dataframe\">\n",
       "  <thead>\n",
       "    <tr style=\"text-align: right;\">\n",
       "      <th></th>\n",
       "      <th>CUST_ID</th>\n",
       "      <th>gender</th>\n",
       "      <th>DateOfBirth</th>\n",
       "      <th>State</th>\n",
       "      <th>Contact</th>\n",
       "      <th>Segment</th>\n",
       "      <th>claim_id</th>\n",
       "      <th>customer_id</th>\n",
       "      <th>incident_cause</th>\n",
       "      <th>claim_date</th>\n",
       "      <th>claim_area</th>\n",
       "      <th>police_report</th>\n",
       "      <th>claim_type</th>\n",
       "      <th>claim_amount</th>\n",
       "      <th>total_policy_claims</th>\n",
       "      <th>fraudulent</th>\n",
       "    </tr>\n",
       "  </thead>\n",
       "  <tbody>\n",
       "    <tr>\n",
       "      <th>0</th>\n",
       "      <td>21868593</td>\n",
       "      <td>Female</td>\n",
       "      <td>12-Jan-79</td>\n",
       "      <td>VT</td>\n",
       "      <td>789-916-8172</td>\n",
       "      <td>Platinum</td>\n",
       "      <td>54004764.0</td>\n",
       "      <td>21868593.0</td>\n",
       "      <td>Driver error</td>\n",
       "      <td>11/27/2017</td>\n",
       "      <td>Auto</td>\n",
       "      <td>No</td>\n",
       "      <td>Material only</td>\n",
       "      <td>$2980</td>\n",
       "      <td>1.0</td>\n",
       "      <td>No</td>\n",
       "    </tr>\n",
       "    <tr>\n",
       "      <th>1</th>\n",
       "      <td>75740424</td>\n",
       "      <td>Female</td>\n",
       "      <td>13-Jan-70</td>\n",
       "      <td>ME</td>\n",
       "      <td>265-543-1264</td>\n",
       "      <td>Silver</td>\n",
       "      <td>33985796.0</td>\n",
       "      <td>75740424.0</td>\n",
       "      <td>Crime</td>\n",
       "      <td>10/03/2018</td>\n",
       "      <td>Home</td>\n",
       "      <td>Unknown</td>\n",
       "      <td>Material only</td>\n",
       "      <td>$2980</td>\n",
       "      <td>3.0</td>\n",
       "      <td>No</td>\n",
       "    </tr>\n",
       "    <tr>\n",
       "      <th>2</th>\n",
       "      <td>30308357</td>\n",
       "      <td>Female</td>\n",
       "      <td>11-Mar-84</td>\n",
       "      <td>TN</td>\n",
       "      <td>798-631-4758</td>\n",
       "      <td>Silver</td>\n",
       "      <td>53522022.0</td>\n",
       "      <td>30308357.0</td>\n",
       "      <td>Other driver error</td>\n",
       "      <td>02/02/2018</td>\n",
       "      <td>Auto</td>\n",
       "      <td>No</td>\n",
       "      <td>Material only</td>\n",
       "      <td>$3369.5</td>\n",
       "      <td>1.0</td>\n",
       "      <td>Yes</td>\n",
       "    </tr>\n",
       "    <tr>\n",
       "      <th>3</th>\n",
       "      <td>30308357</td>\n",
       "      <td>Female</td>\n",
       "      <td>11-Mar-84</td>\n",
       "      <td>TN</td>\n",
       "      <td>798-631-4758</td>\n",
       "      <td>Silver</td>\n",
       "      <td>63017412.0</td>\n",
       "      <td>30308357.0</td>\n",
       "      <td>Driver error</td>\n",
       "      <td>04/04/2018</td>\n",
       "      <td>Auto</td>\n",
       "      <td>No</td>\n",
       "      <td>Material only</td>\n",
       "      <td>$1950</td>\n",
       "      <td>6.0</td>\n",
       "      <td>No</td>\n",
       "    </tr>\n",
       "    <tr>\n",
       "      <th>4</th>\n",
       "      <td>47830476</td>\n",
       "      <td>Female</td>\n",
       "      <td>01-May-86</td>\n",
       "      <td>MA</td>\n",
       "      <td>413-187-7945</td>\n",
       "      <td>Silver</td>\n",
       "      <td>13015401.0</td>\n",
       "      <td>47830476.0</td>\n",
       "      <td>Natural causes</td>\n",
       "      <td>06/17/2018</td>\n",
       "      <td>Auto</td>\n",
       "      <td>No</td>\n",
       "      <td>Material only</td>\n",
       "      <td>$1680</td>\n",
       "      <td>1.0</td>\n",
       "      <td>No</td>\n",
       "    </tr>\n",
       "    <tr>\n",
       "      <th>...</th>\n",
       "      <td>...</td>\n",
       "      <td>...</td>\n",
       "      <td>...</td>\n",
       "      <td>...</td>\n",
       "      <td>...</td>\n",
       "      <td>...</td>\n",
       "      <td>...</td>\n",
       "      <td>...</td>\n",
       "      <td>...</td>\n",
       "      <td>...</td>\n",
       "      <td>...</td>\n",
       "      <td>...</td>\n",
       "      <td>...</td>\n",
       "      <td>...</td>\n",
       "      <td>...</td>\n",
       "      <td>...</td>\n",
       "    </tr>\n",
       "    <tr>\n",
       "      <th>1087</th>\n",
       "      <td>79539873</td>\n",
       "      <td>Female</td>\n",
       "      <td>15-Mar-81</td>\n",
       "      <td>ND</td>\n",
       "      <td>459-425-4319</td>\n",
       "      <td>Platinum</td>\n",
       "      <td>62020796.0</td>\n",
       "      <td>79539873.0</td>\n",
       "      <td>Other driver error</td>\n",
       "      <td>09/06/2018</td>\n",
       "      <td>Auto</td>\n",
       "      <td>Yes</td>\n",
       "      <td>Material only</td>\n",
       "      <td>$1770</td>\n",
       "      <td>1.0</td>\n",
       "      <td>No</td>\n",
       "    </tr>\n",
       "    <tr>\n",
       "      <th>1088</th>\n",
       "      <td>42364152</td>\n",
       "      <td>Female</td>\n",
       "      <td>07-Jul-96</td>\n",
       "      <td>ID</td>\n",
       "      <td>529-462-1635</td>\n",
       "      <td>Silver</td>\n",
       "      <td>63269067.0</td>\n",
       "      <td>42364152.0</td>\n",
       "      <td>Other causes</td>\n",
       "      <td>05/09/2017</td>\n",
       "      <td>Home</td>\n",
       "      <td>No</td>\n",
       "      <td>Material only</td>\n",
       "      <td>$2800</td>\n",
       "      <td>1.0</td>\n",
       "      <td>No</td>\n",
       "    </tr>\n",
       "    <tr>\n",
       "      <th>1089</th>\n",
       "      <td>19888166</td>\n",
       "      <td>Male</td>\n",
       "      <td>11-Apr-90</td>\n",
       "      <td>WI</td>\n",
       "      <td>712-651-9613</td>\n",
       "      <td>Gold</td>\n",
       "      <td>22690595.0</td>\n",
       "      <td>19888166.0</td>\n",
       "      <td>Other driver error</td>\n",
       "      <td>05/15/2017</td>\n",
       "      <td>Auto</td>\n",
       "      <td>Yes</td>\n",
       "      <td>Injury only</td>\n",
       "      <td>$33080</td>\n",
       "      <td>2.0</td>\n",
       "      <td>No</td>\n",
       "    </tr>\n",
       "    <tr>\n",
       "      <th>1090</th>\n",
       "      <td>11256802</td>\n",
       "      <td>Female</td>\n",
       "      <td>22-Oct-64</td>\n",
       "      <td>LA</td>\n",
       "      <td>469-345-5617</td>\n",
       "      <td>Silver</td>\n",
       "      <td>12376894.0</td>\n",
       "      <td>11256802.0</td>\n",
       "      <td>Other driver error</td>\n",
       "      <td>04/18/2017</td>\n",
       "      <td>Auto</td>\n",
       "      <td>No</td>\n",
       "      <td>Material only</td>\n",
       "      <td>$2840</td>\n",
       "      <td>4.0</td>\n",
       "      <td>No</td>\n",
       "    </tr>\n",
       "    <tr>\n",
       "      <th>1091</th>\n",
       "      <td>61575264</td>\n",
       "      <td>Male</td>\n",
       "      <td>12-Jul-95</td>\n",
       "      <td>WY</td>\n",
       "      <td>182-385-1392</td>\n",
       "      <td>Gold</td>\n",
       "      <td>63226031.0</td>\n",
       "      <td>61575264.0</td>\n",
       "      <td>Natural causes</td>\n",
       "      <td>03/16/2017</td>\n",
       "      <td>Auto</td>\n",
       "      <td>No</td>\n",
       "      <td>Material only</td>\n",
       "      <td>$1490</td>\n",
       "      <td>1.0</td>\n",
       "      <td>No</td>\n",
       "    </tr>\n",
       "  </tbody>\n",
       "</table>\n",
       "<p>1092 rows × 16 columns</p>\n",
       "</div>"
      ],
      "text/plain": [
       "       CUST_ID  gender DateOfBirth State       Contact   Segment    claim_id  \\\n",
       "0     21868593  Female   12-Jan-79    VT  789-916-8172  Platinum  54004764.0   \n",
       "1     75740424  Female   13-Jan-70    ME  265-543-1264    Silver  33985796.0   \n",
       "2     30308357  Female   11-Mar-84    TN  798-631-4758    Silver  53522022.0   \n",
       "3     30308357  Female   11-Mar-84    TN  798-631-4758    Silver  63017412.0   \n",
       "4     47830476  Female   01-May-86    MA  413-187-7945    Silver  13015401.0   \n",
       "...        ...     ...         ...   ...           ...       ...         ...   \n",
       "1087  79539873  Female   15-Mar-81    ND  459-425-4319  Platinum  62020796.0   \n",
       "1088  42364152  Female   07-Jul-96    ID  529-462-1635    Silver  63269067.0   \n",
       "1089  19888166    Male   11-Apr-90    WI  712-651-9613      Gold  22690595.0   \n",
       "1090  11256802  Female   22-Oct-64    LA  469-345-5617    Silver  12376894.0   \n",
       "1091  61575264    Male   12-Jul-95    WY  182-385-1392      Gold  63226031.0   \n",
       "\n",
       "      customer_id      incident_cause  claim_date claim_area police_report  \\\n",
       "0      21868593.0        Driver error  11/27/2017       Auto            No   \n",
       "1      75740424.0               Crime  10/03/2018       Home       Unknown   \n",
       "2      30308357.0  Other driver error  02/02/2018       Auto            No   \n",
       "3      30308357.0        Driver error  04/04/2018       Auto            No   \n",
       "4      47830476.0      Natural causes  06/17/2018       Auto            No   \n",
       "...           ...                 ...         ...        ...           ...   \n",
       "1087   79539873.0  Other driver error  09/06/2018       Auto           Yes   \n",
       "1088   42364152.0        Other causes  05/09/2017       Home            No   \n",
       "1089   19888166.0  Other driver error  05/15/2017       Auto           Yes   \n",
       "1090   11256802.0  Other driver error  04/18/2017       Auto            No   \n",
       "1091   61575264.0      Natural causes  03/16/2017       Auto            No   \n",
       "\n",
       "         claim_type claim_amount  total_policy_claims fraudulent  \n",
       "0     Material only        $2980                  1.0         No  \n",
       "1     Material only        $2980                  3.0         No  \n",
       "2     Material only      $3369.5                  1.0        Yes  \n",
       "3     Material only        $1950                  6.0         No  \n",
       "4     Material only        $1680                  1.0         No  \n",
       "...             ...          ...                  ...        ...  \n",
       "1087  Material only        $1770                  1.0         No  \n",
       "1088  Material only        $2800                  1.0         No  \n",
       "1089    Injury only       $33080                  2.0         No  \n",
       "1090  Material only        $2840                  4.0         No  \n",
       "1091  Material only        $1490                  1.0         No  \n",
       "\n",
       "[1092 rows x 16 columns]"
      ]
     },
     "execution_count": 10,
     "metadata": {},
     "output_type": "execute_result"
    }
   ],
   "source": [
    "cust_claim = pd.merge(cust_data,claim_data,left_on='CUST_ID',right_on='customer_id',how='left')\n",
    "cust_claim"
   ]
  },
  {
   "cell_type": "markdown",
   "id": "edff7a51-aef2-45a1-975f-07b2250ac653",
   "metadata": {},
   "source": [
    "##### 2. Perform a data audit for the datatypes and find out if there are any mismatch within the current datatypes of the columns and their business significance"
   ]
  },
  {
   "cell_type": "code",
   "execution_count": 12,
   "id": "24796292-6956-4bbc-8d6f-3ec68ccce6ac",
   "metadata": {},
   "outputs": [
    {
     "name": "stdout",
     "output_type": "stream",
     "text": [
      "<class 'pandas.core.frame.DataFrame'>\n",
      "RangeIndex: 1092 entries, 0 to 1091\n",
      "Data columns (total 16 columns):\n",
      " #   Column               Non-Null Count  Dtype  \n",
      "---  ------               --------------  -----  \n",
      " 0   CUST_ID              1092 non-null   int64  \n",
      " 1   gender               1092 non-null   object \n",
      " 2   DateOfBirth          1092 non-null   object \n",
      " 3   State                1092 non-null   object \n",
      " 4   Contact              1092 non-null   object \n",
      " 5   Segment              1092 non-null   object \n",
      " 6   claim_id             1085 non-null   float64\n",
      " 7   customer_id          1085 non-null   float64\n",
      " 8   incident_cause       1085 non-null   object \n",
      " 9   claim_date           1085 non-null   object \n",
      " 10  claim_area           1085 non-null   object \n",
      " 11  police_report        1085 non-null   object \n",
      " 12  claim_type           1085 non-null   object \n",
      " 13  claim_amount         1020 non-null   object \n",
      " 14  total_policy_claims  1075 non-null   float64\n",
      " 15  fraudulent           1085 non-null   object \n",
      "dtypes: float64(3), int64(1), object(12)\n",
      "memory usage: 136.6+ KB\n"
     ]
    }
   ],
   "source": [
    "cust_claim.info()\n",
    "#Based on the below output:\n",
    "## claim_amount should be an interger datatype \n",
    "## claim_date can be datetime type.\n"
   ]
  },
  {
   "cell_type": "code",
   "execution_count": 13,
   "id": "701f320c-eb52-40f7-8f1b-b4a744b1312d",
   "metadata": {},
   "outputs": [
    {
     "data": {
      "text/plain": [
       "0        2980.0\n",
       "1        2980.0\n",
       "2        3369.5\n",
       "3        1950.0\n",
       "4        1680.0\n",
       "         ...   \n",
       "1087     1770.0\n",
       "1088     2800.0\n",
       "1089    33080.0\n",
       "1090     2840.0\n",
       "1091     1490.0\n",
       "Name: claim_amount, Length: 1092, dtype: float64"
      ]
     },
     "execution_count": 13,
     "metadata": {},
     "output_type": "execute_result"
    }
   ],
   "source": [
    "###3. Convert the column claim_amount to numeric. Use the appropriate modules/attributes to remove the $ sign\n",
    "cust_claim['claim_amount'] = cust_claim.claim_amount.str.lstrip('$')\n",
    "cust_claim['claim_amount'] = pd.to_numeric(cust_claim.claim_amount)\n",
    "cust_claim.claim_amount"
   ]
  },
  {
   "cell_type": "markdown",
   "id": "a72da05c-87c7-4b56-84c3-522b7cb53b53",
   "metadata": {},
   "source": [
    "##### 4. Of all the injury claims, some of them have gone unreported with the police. Create an alert flag (1,0) for all such claims."
   ]
  },
  {
   "cell_type": "code",
   "execution_count": 15,
   "id": "05c926ac-9a33-439e-99fc-8e0ea2b741e1",
   "metadata": {},
   "outputs": [],
   "source": [
    "cust_claim['flag'] = np.where((cust_claim.claim_type == 'Injury only') & (cust_claim.police_report == 'No'),1,0)"
   ]
  },
  {
   "cell_type": "code",
   "execution_count": 16,
   "id": "02fd5169-be33-4b8f-9b09-dd62bba69ef4",
   "metadata": {},
   "outputs": [],
   "source": [
    "#cust_claim.loc[cust_claim.flag == 1,:]"
   ]
  },
  {
   "cell_type": "markdown",
   "id": "d6e94a6d-5e93-4d98-83c8-7a524cd4c15a",
   "metadata": {},
   "source": [
    "#####  5. One customer can claim for insurance more than once and in each claim, multiple categories of claims can be involved. However, customer ID should remain unique. Retain the most recent observation and delete any duplicated records in the data based on the customer ID column."
   ]
  },
  {
   "cell_type": "code",
   "execution_count": 18,
   "id": "c846b8b7-53eb-47f1-a9de-6356d3dbedf6",
   "metadata": {},
   "outputs": [
    {
     "data": {
      "text/html": [
       "<div>\n",
       "<style scoped>\n",
       "    .dataframe tbody tr th:only-of-type {\n",
       "        vertical-align: middle;\n",
       "    }\n",
       "\n",
       "    .dataframe tbody tr th {\n",
       "        vertical-align: top;\n",
       "    }\n",
       "\n",
       "    .dataframe thead th {\n",
       "        text-align: right;\n",
       "    }\n",
       "</style>\n",
       "<table border=\"1\" class=\"dataframe\">\n",
       "  <thead>\n",
       "    <tr style=\"text-align: right;\">\n",
       "      <th></th>\n",
       "      <th>CUST_ID</th>\n",
       "      <th>gender</th>\n",
       "      <th>DateOfBirth</th>\n",
       "      <th>State</th>\n",
       "      <th>Contact</th>\n",
       "      <th>Segment</th>\n",
       "      <th>claim_id</th>\n",
       "      <th>customer_id</th>\n",
       "      <th>incident_cause</th>\n",
       "      <th>claim_date</th>\n",
       "      <th>claim_area</th>\n",
       "      <th>police_report</th>\n",
       "      <th>claim_type</th>\n",
       "      <th>claim_amount</th>\n",
       "      <th>total_policy_claims</th>\n",
       "      <th>fraudulent</th>\n",
       "      <th>flag</th>\n",
       "    </tr>\n",
       "  </thead>\n",
       "  <tbody>\n",
       "    <tr>\n",
       "      <th>3</th>\n",
       "      <td>30308357</td>\n",
       "      <td>Female</td>\n",
       "      <td>11-Mar-84</td>\n",
       "      <td>TN</td>\n",
       "      <td>798-631-4758</td>\n",
       "      <td>Silver</td>\n",
       "      <td>63017412.0</td>\n",
       "      <td>30308357.0</td>\n",
       "      <td>Driver error</td>\n",
       "      <td>04/04/2018</td>\n",
       "      <td>Auto</td>\n",
       "      <td>No</td>\n",
       "      <td>Material only</td>\n",
       "      <td>1950.0</td>\n",
       "      <td>6.0</td>\n",
       "      <td>No</td>\n",
       "      <td>0</td>\n",
       "    </tr>\n",
       "    <tr>\n",
       "      <th>5</th>\n",
       "      <td>47830476</td>\n",
       "      <td>Female</td>\n",
       "      <td>01-May-86</td>\n",
       "      <td>MA</td>\n",
       "      <td>413-187-7945</td>\n",
       "      <td>Silver</td>\n",
       "      <td>91609100.0</td>\n",
       "      <td>47830476.0</td>\n",
       "      <td>Natural causes</td>\n",
       "      <td>04/12/2017</td>\n",
       "      <td>Auto</td>\n",
       "      <td>Unknown</td>\n",
       "      <td>Material only</td>\n",
       "      <td>1440.0</td>\n",
       "      <td>1.0</td>\n",
       "      <td>No</td>\n",
       "      <td>0</td>\n",
       "    </tr>\n",
       "    <tr>\n",
       "      <th>7</th>\n",
       "      <td>19269962</td>\n",
       "      <td>Male</td>\n",
       "      <td>13-May-77</td>\n",
       "      <td>NV</td>\n",
       "      <td>956-871-8691</td>\n",
       "      <td>Gold</td>\n",
       "      <td>39219616.0</td>\n",
       "      <td>19269962.0</td>\n",
       "      <td>Other causes</td>\n",
       "      <td>09/26/2018</td>\n",
       "      <td>Auto</td>\n",
       "      <td>No</td>\n",
       "      <td>Material only</td>\n",
       "      <td>2240.0</td>\n",
       "      <td>2.0</td>\n",
       "      <td>No</td>\n",
       "      <td>0</td>\n",
       "    </tr>\n",
       "    <tr>\n",
       "      <th>9</th>\n",
       "      <td>21831191</td>\n",
       "      <td>Male</td>\n",
       "      <td>17-May-77</td>\n",
       "      <td>NH</td>\n",
       "      <td>419-712-8513</td>\n",
       "      <td>Gold</td>\n",
       "      <td>91475471.0</td>\n",
       "      <td>21831191.0</td>\n",
       "      <td>Driver error</td>\n",
       "      <td>02/09/2018</td>\n",
       "      <td>Auto</td>\n",
       "      <td>Unknown</td>\n",
       "      <td>Material and injury</td>\n",
       "      <td>36810.0</td>\n",
       "      <td>1.0</td>\n",
       "      <td>No</td>\n",
       "      <td>0</td>\n",
       "    </tr>\n",
       "    <tr>\n",
       "      <th>625</th>\n",
       "      <td>84147585</td>\n",
       "      <td>Male</td>\n",
       "      <td>18-Oct-72</td>\n",
       "      <td>AK</td>\n",
       "      <td>743-569-4783</td>\n",
       "      <td>Gold</td>\n",
       "      <td>78221963.0</td>\n",
       "      <td>84147585.0</td>\n",
       "      <td>Driver error</td>\n",
       "      <td>04/10/2018</td>\n",
       "      <td>Auto</td>\n",
       "      <td>Yes</td>\n",
       "      <td>Injury only</td>\n",
       "      <td>14430.0</td>\n",
       "      <td>4.0</td>\n",
       "      <td>No</td>\n",
       "      <td>0</td>\n",
       "    </tr>\n",
       "    <tr>\n",
       "      <th>627</th>\n",
       "      <td>85357756</td>\n",
       "      <td>Male</td>\n",
       "      <td>02-Jan-70</td>\n",
       "      <td>PA</td>\n",
       "      <td>915-698-3649</td>\n",
       "      <td>Platinum</td>\n",
       "      <td>1654201.0</td>\n",
       "      <td>85357756.0</td>\n",
       "      <td>Driver error</td>\n",
       "      <td>06/23/2018</td>\n",
       "      <td>Auto</td>\n",
       "      <td>Unknown</td>\n",
       "      <td>Material only</td>\n",
       "      <td>2510.0</td>\n",
       "      <td>1.0</td>\n",
       "      <td>No</td>\n",
       "      <td>0</td>\n",
       "    </tr>\n",
       "    <tr>\n",
       "      <th>629</th>\n",
       "      <td>53539195</td>\n",
       "      <td>Male</td>\n",
       "      <td>02-Oct-89</td>\n",
       "      <td>NV</td>\n",
       "      <td>914-342-8239</td>\n",
       "      <td>Gold</td>\n",
       "      <td>41779510.0</td>\n",
       "      <td>53539195.0</td>\n",
       "      <td>Driver error</td>\n",
       "      <td>10/03/2018</td>\n",
       "      <td>Home</td>\n",
       "      <td>No</td>\n",
       "      <td>Injury only</td>\n",
       "      <td>25040.0</td>\n",
       "      <td>1.0</td>\n",
       "      <td>No</td>\n",
       "      <td>1</td>\n",
       "    </tr>\n",
       "  </tbody>\n",
       "</table>\n",
       "</div>"
      ],
      "text/plain": [
       "      CUST_ID  gender DateOfBirth State       Contact   Segment    claim_id  \\\n",
       "3    30308357  Female   11-Mar-84    TN  798-631-4758    Silver  63017412.0   \n",
       "5    47830476  Female   01-May-86    MA  413-187-7945    Silver  91609100.0   \n",
       "7    19269962    Male   13-May-77    NV  956-871-8691      Gold  39219616.0   \n",
       "9    21831191    Male   17-May-77    NH  419-712-8513      Gold  91475471.0   \n",
       "625  84147585    Male   18-Oct-72    AK  743-569-4783      Gold  78221963.0   \n",
       "627  85357756    Male   02-Jan-70    PA  915-698-3649  Platinum   1654201.0   \n",
       "629  53539195    Male   02-Oct-89    NV  914-342-8239      Gold  41779510.0   \n",
       "\n",
       "     customer_id  incident_cause  claim_date claim_area police_report  \\\n",
       "3     30308357.0    Driver error  04/04/2018       Auto            No   \n",
       "5     47830476.0  Natural causes  04/12/2017       Auto       Unknown   \n",
       "7     19269962.0    Other causes  09/26/2018       Auto            No   \n",
       "9     21831191.0    Driver error  02/09/2018       Auto       Unknown   \n",
       "625   84147585.0    Driver error  04/10/2018       Auto           Yes   \n",
       "627   85357756.0    Driver error  06/23/2018       Auto       Unknown   \n",
       "629   53539195.0    Driver error  10/03/2018       Home            No   \n",
       "\n",
       "              claim_type  claim_amount  total_policy_claims fraudulent  flag  \n",
       "3          Material only        1950.0                  6.0         No     0  \n",
       "5          Material only        1440.0                  1.0         No     0  \n",
       "7          Material only        2240.0                  2.0         No     0  \n",
       "9    Material and injury       36810.0                  1.0         No     0  \n",
       "625          Injury only       14430.0                  4.0         No     0  \n",
       "627        Material only        2510.0                  1.0         No     0  \n",
       "629          Injury only       25040.0                  1.0         No     1  "
      ]
     },
     "execution_count": 18,
     "metadata": {},
     "output_type": "execute_result"
    }
   ],
   "source": [
    "cust_claim.loc[cust_claim.CUST_ID.duplicated(),:]"
   ]
  },
  {
   "cell_type": "code",
   "execution_count": 19,
   "id": "90745bb4-ce50-4ffc-90f5-86129c12a968",
   "metadata": {},
   "outputs": [],
   "source": [
    "cust_claim.drop_duplicates('customer_id',keep='last',inplace = True)"
   ]
  },
  {
   "cell_type": "code",
   "execution_count": 20,
   "id": "ffbb3552-3bdc-4a4a-b811-1eb6fe5ac79b",
   "metadata": {},
   "outputs": [],
   "source": [
    "# since it retains last data with NULL values, Deleting the NULL \n",
    "cust_claim.dropna(subset = 'customer_id',inplace = True)"
   ]
  },
  {
   "cell_type": "code",
   "execution_count": 21,
   "id": "423de3b0-ca11-4f8c-b01c-0b653853af54",
   "metadata": {},
   "outputs": [
    {
     "data": {
      "text/html": [
       "<div>\n",
       "<style scoped>\n",
       "    .dataframe tbody tr th:only-of-type {\n",
       "        vertical-align: middle;\n",
       "    }\n",
       "\n",
       "    .dataframe tbody tr th {\n",
       "        vertical-align: top;\n",
       "    }\n",
       "\n",
       "    .dataframe thead th {\n",
       "        text-align: right;\n",
       "    }\n",
       "</style>\n",
       "<table border=\"1\" class=\"dataframe\">\n",
       "  <thead>\n",
       "    <tr style=\"text-align: right;\">\n",
       "      <th></th>\n",
       "      <th>CUST_ID</th>\n",
       "      <th>gender</th>\n",
       "      <th>DateOfBirth</th>\n",
       "      <th>State</th>\n",
       "      <th>Contact</th>\n",
       "      <th>Segment</th>\n",
       "      <th>claim_id</th>\n",
       "      <th>customer_id</th>\n",
       "      <th>incident_cause</th>\n",
       "      <th>claim_date</th>\n",
       "      <th>claim_area</th>\n",
       "      <th>police_report</th>\n",
       "      <th>claim_type</th>\n",
       "      <th>claim_amount</th>\n",
       "      <th>total_policy_claims</th>\n",
       "      <th>fraudulent</th>\n",
       "      <th>flag</th>\n",
       "    </tr>\n",
       "  </thead>\n",
       "  <tbody>\n",
       "    <tr>\n",
       "      <th>0</th>\n",
       "      <td>21868593</td>\n",
       "      <td>Female</td>\n",
       "      <td>12-Jan-79</td>\n",
       "      <td>VT</td>\n",
       "      <td>789-916-8172</td>\n",
       "      <td>Platinum</td>\n",
       "      <td>54004764.0</td>\n",
       "      <td>21868593.0</td>\n",
       "      <td>Driver error</td>\n",
       "      <td>11/27/2017</td>\n",
       "      <td>Auto</td>\n",
       "      <td>No</td>\n",
       "      <td>Material only</td>\n",
       "      <td>2980.0</td>\n",
       "      <td>1.0</td>\n",
       "      <td>No</td>\n",
       "      <td>0</td>\n",
       "    </tr>\n",
       "    <tr>\n",
       "      <th>1</th>\n",
       "      <td>75740424</td>\n",
       "      <td>Female</td>\n",
       "      <td>13-Jan-70</td>\n",
       "      <td>ME</td>\n",
       "      <td>265-543-1264</td>\n",
       "      <td>Silver</td>\n",
       "      <td>33985796.0</td>\n",
       "      <td>75740424.0</td>\n",
       "      <td>Crime</td>\n",
       "      <td>10/03/2018</td>\n",
       "      <td>Home</td>\n",
       "      <td>Unknown</td>\n",
       "      <td>Material only</td>\n",
       "      <td>2980.0</td>\n",
       "      <td>3.0</td>\n",
       "      <td>No</td>\n",
       "      <td>0</td>\n",
       "    </tr>\n",
       "    <tr>\n",
       "      <th>3</th>\n",
       "      <td>30308357</td>\n",
       "      <td>Female</td>\n",
       "      <td>11-Mar-84</td>\n",
       "      <td>TN</td>\n",
       "      <td>798-631-4758</td>\n",
       "      <td>Silver</td>\n",
       "      <td>63017412.0</td>\n",
       "      <td>30308357.0</td>\n",
       "      <td>Driver error</td>\n",
       "      <td>04/04/2018</td>\n",
       "      <td>Auto</td>\n",
       "      <td>No</td>\n",
       "      <td>Material only</td>\n",
       "      <td>1950.0</td>\n",
       "      <td>6.0</td>\n",
       "      <td>No</td>\n",
       "      <td>0</td>\n",
       "    </tr>\n",
       "    <tr>\n",
       "      <th>5</th>\n",
       "      <td>47830476</td>\n",
       "      <td>Female</td>\n",
       "      <td>01-May-86</td>\n",
       "      <td>MA</td>\n",
       "      <td>413-187-7945</td>\n",
       "      <td>Silver</td>\n",
       "      <td>91609100.0</td>\n",
       "      <td>47830476.0</td>\n",
       "      <td>Natural causes</td>\n",
       "      <td>04/12/2017</td>\n",
       "      <td>Auto</td>\n",
       "      <td>Unknown</td>\n",
       "      <td>Material only</td>\n",
       "      <td>1440.0</td>\n",
       "      <td>1.0</td>\n",
       "      <td>No</td>\n",
       "      <td>0</td>\n",
       "    </tr>\n",
       "    <tr>\n",
       "      <th>7</th>\n",
       "      <td>19269962</td>\n",
       "      <td>Male</td>\n",
       "      <td>13-May-77</td>\n",
       "      <td>NV</td>\n",
       "      <td>956-871-8691</td>\n",
       "      <td>Gold</td>\n",
       "      <td>39219616.0</td>\n",
       "      <td>19269962.0</td>\n",
       "      <td>Other causes</td>\n",
       "      <td>09/26/2018</td>\n",
       "      <td>Auto</td>\n",
       "      <td>No</td>\n",
       "      <td>Material only</td>\n",
       "      <td>2240.0</td>\n",
       "      <td>2.0</td>\n",
       "      <td>No</td>\n",
       "      <td>0</td>\n",
       "    </tr>\n",
       "    <tr>\n",
       "      <th>...</th>\n",
       "      <td>...</td>\n",
       "      <td>...</td>\n",
       "      <td>...</td>\n",
       "      <td>...</td>\n",
       "      <td>...</td>\n",
       "      <td>...</td>\n",
       "      <td>...</td>\n",
       "      <td>...</td>\n",
       "      <td>...</td>\n",
       "      <td>...</td>\n",
       "      <td>...</td>\n",
       "      <td>...</td>\n",
       "      <td>...</td>\n",
       "      <td>...</td>\n",
       "      <td>...</td>\n",
       "      <td>...</td>\n",
       "      <td>...</td>\n",
       "    </tr>\n",
       "    <tr>\n",
       "      <th>1087</th>\n",
       "      <td>79539873</td>\n",
       "      <td>Female</td>\n",
       "      <td>15-Mar-81</td>\n",
       "      <td>ND</td>\n",
       "      <td>459-425-4319</td>\n",
       "      <td>Platinum</td>\n",
       "      <td>62020796.0</td>\n",
       "      <td>79539873.0</td>\n",
       "      <td>Other driver error</td>\n",
       "      <td>09/06/2018</td>\n",
       "      <td>Auto</td>\n",
       "      <td>Yes</td>\n",
       "      <td>Material only</td>\n",
       "      <td>1770.0</td>\n",
       "      <td>1.0</td>\n",
       "      <td>No</td>\n",
       "      <td>0</td>\n",
       "    </tr>\n",
       "    <tr>\n",
       "      <th>1088</th>\n",
       "      <td>42364152</td>\n",
       "      <td>Female</td>\n",
       "      <td>07-Jul-96</td>\n",
       "      <td>ID</td>\n",
       "      <td>529-462-1635</td>\n",
       "      <td>Silver</td>\n",
       "      <td>63269067.0</td>\n",
       "      <td>42364152.0</td>\n",
       "      <td>Other causes</td>\n",
       "      <td>05/09/2017</td>\n",
       "      <td>Home</td>\n",
       "      <td>No</td>\n",
       "      <td>Material only</td>\n",
       "      <td>2800.0</td>\n",
       "      <td>1.0</td>\n",
       "      <td>No</td>\n",
       "      <td>0</td>\n",
       "    </tr>\n",
       "    <tr>\n",
       "      <th>1089</th>\n",
       "      <td>19888166</td>\n",
       "      <td>Male</td>\n",
       "      <td>11-Apr-90</td>\n",
       "      <td>WI</td>\n",
       "      <td>712-651-9613</td>\n",
       "      <td>Gold</td>\n",
       "      <td>22690595.0</td>\n",
       "      <td>19888166.0</td>\n",
       "      <td>Other driver error</td>\n",
       "      <td>05/15/2017</td>\n",
       "      <td>Auto</td>\n",
       "      <td>Yes</td>\n",
       "      <td>Injury only</td>\n",
       "      <td>33080.0</td>\n",
       "      <td>2.0</td>\n",
       "      <td>No</td>\n",
       "      <td>0</td>\n",
       "    </tr>\n",
       "    <tr>\n",
       "      <th>1090</th>\n",
       "      <td>11256802</td>\n",
       "      <td>Female</td>\n",
       "      <td>22-Oct-64</td>\n",
       "      <td>LA</td>\n",
       "      <td>469-345-5617</td>\n",
       "      <td>Silver</td>\n",
       "      <td>12376894.0</td>\n",
       "      <td>11256802.0</td>\n",
       "      <td>Other driver error</td>\n",
       "      <td>04/18/2017</td>\n",
       "      <td>Auto</td>\n",
       "      <td>No</td>\n",
       "      <td>Material only</td>\n",
       "      <td>2840.0</td>\n",
       "      <td>4.0</td>\n",
       "      <td>No</td>\n",
       "      <td>0</td>\n",
       "    </tr>\n",
       "    <tr>\n",
       "      <th>1091</th>\n",
       "      <td>61575264</td>\n",
       "      <td>Male</td>\n",
       "      <td>12-Jul-95</td>\n",
       "      <td>WY</td>\n",
       "      <td>182-385-1392</td>\n",
       "      <td>Gold</td>\n",
       "      <td>63226031.0</td>\n",
       "      <td>61575264.0</td>\n",
       "      <td>Natural causes</td>\n",
       "      <td>03/16/2017</td>\n",
       "      <td>Auto</td>\n",
       "      <td>No</td>\n",
       "      <td>Material only</td>\n",
       "      <td>1490.0</td>\n",
       "      <td>1.0</td>\n",
       "      <td>No</td>\n",
       "      <td>0</td>\n",
       "    </tr>\n",
       "  </tbody>\n",
       "</table>\n",
       "<p>1078 rows × 17 columns</p>\n",
       "</div>"
      ],
      "text/plain": [
       "       CUST_ID  gender DateOfBirth State       Contact   Segment    claim_id  \\\n",
       "0     21868593  Female   12-Jan-79    VT  789-916-8172  Platinum  54004764.0   \n",
       "1     75740424  Female   13-Jan-70    ME  265-543-1264    Silver  33985796.0   \n",
       "3     30308357  Female   11-Mar-84    TN  798-631-4758    Silver  63017412.0   \n",
       "5     47830476  Female   01-May-86    MA  413-187-7945    Silver  91609100.0   \n",
       "7     19269962    Male   13-May-77    NV  956-871-8691      Gold  39219616.0   \n",
       "...        ...     ...         ...   ...           ...       ...         ...   \n",
       "1087  79539873  Female   15-Mar-81    ND  459-425-4319  Platinum  62020796.0   \n",
       "1088  42364152  Female   07-Jul-96    ID  529-462-1635    Silver  63269067.0   \n",
       "1089  19888166    Male   11-Apr-90    WI  712-651-9613      Gold  22690595.0   \n",
       "1090  11256802  Female   22-Oct-64    LA  469-345-5617    Silver  12376894.0   \n",
       "1091  61575264    Male   12-Jul-95    WY  182-385-1392      Gold  63226031.0   \n",
       "\n",
       "      customer_id      incident_cause  claim_date claim_area police_report  \\\n",
       "0      21868593.0        Driver error  11/27/2017       Auto            No   \n",
       "1      75740424.0               Crime  10/03/2018       Home       Unknown   \n",
       "3      30308357.0        Driver error  04/04/2018       Auto            No   \n",
       "5      47830476.0      Natural causes  04/12/2017       Auto       Unknown   \n",
       "7      19269962.0        Other causes  09/26/2018       Auto            No   \n",
       "...           ...                 ...         ...        ...           ...   \n",
       "1087   79539873.0  Other driver error  09/06/2018       Auto           Yes   \n",
       "1088   42364152.0        Other causes  05/09/2017       Home            No   \n",
       "1089   19888166.0  Other driver error  05/15/2017       Auto           Yes   \n",
       "1090   11256802.0  Other driver error  04/18/2017       Auto            No   \n",
       "1091   61575264.0      Natural causes  03/16/2017       Auto            No   \n",
       "\n",
       "         claim_type  claim_amount  total_policy_claims fraudulent  flag  \n",
       "0     Material only        2980.0                  1.0         No     0  \n",
       "1     Material only        2980.0                  3.0         No     0  \n",
       "3     Material only        1950.0                  6.0         No     0  \n",
       "5     Material only        1440.0                  1.0         No     0  \n",
       "7     Material only        2240.0                  2.0         No     0  \n",
       "...             ...           ...                  ...        ...   ...  \n",
       "1087  Material only        1770.0                  1.0         No     0  \n",
       "1088  Material only        2800.0                  1.0         No     0  \n",
       "1089    Injury only       33080.0                  2.0         No     0  \n",
       "1090  Material only        2840.0                  4.0         No     0  \n",
       "1091  Material only        1490.0                  1.0         No     0  \n",
       "\n",
       "[1078 rows x 17 columns]"
      ]
     },
     "execution_count": 21,
     "metadata": {},
     "output_type": "execute_result"
    }
   ],
   "source": [
    "cust_claim"
   ]
  },
  {
   "cell_type": "markdown",
   "id": "1e9a5a64-a01e-4722-939b-5e2478c1c777",
   "metadata": {},
   "source": [
    "##### 6. Check for missing values and impute the missing values with an appropriate value. (mean for continuous and mode for categorical)"
   ]
  },
  {
   "cell_type": "code",
   "execution_count": 23,
   "id": "58bcc34a-b32c-418d-bc57-5b67234cb7f1",
   "metadata": {},
   "outputs": [
    {
     "name": "stdout",
     "output_type": "stream",
     "text": [
      "<class 'pandas.core.frame.DataFrame'>\n",
      "Index: 1078 entries, 0 to 1091\n",
      "Data columns (total 17 columns):\n",
      " #   Column               Non-Null Count  Dtype  \n",
      "---  ------               --------------  -----  \n",
      " 0   CUST_ID              1078 non-null   int64  \n",
      " 1   gender               1078 non-null   object \n",
      " 2   DateOfBirth          1078 non-null   object \n",
      " 3   State                1078 non-null   object \n",
      " 4   Contact              1078 non-null   object \n",
      " 5   Segment              1078 non-null   object \n",
      " 6   claim_id             1078 non-null   float64\n",
      " 7   customer_id          1078 non-null   float64\n",
      " 8   incident_cause       1078 non-null   object \n",
      " 9   claim_date           1078 non-null   object \n",
      " 10  claim_area           1078 non-null   object \n",
      " 11  police_report        1078 non-null   object \n",
      " 12  claim_type           1078 non-null   object \n",
      " 13  claim_amount         1013 non-null   float64\n",
      " 14  total_policy_claims  1068 non-null   float64\n",
      " 15  fraudulent           1078 non-null   object \n",
      " 16  flag                 1078 non-null   int32  \n",
      "dtypes: float64(4), int32(1), int64(1), object(11)\n",
      "memory usage: 147.4+ KB\n"
     ]
    }
   ],
   "source": [
    "cust_claim.info()"
   ]
  },
  {
   "cell_type": "code",
   "execution_count": 24,
   "id": "dfa330d5-a206-4634-a358-fc3071d6c4db",
   "metadata": {},
   "outputs": [],
   "source": [
    "cust_claim['total_policy_claims']=np.where(cust_claim.total_policy_claims.isna(),cust_claim['total_policy_claims'].mode(),cust_claim['total_policy_claims']) "
   ]
  },
  {
   "cell_type": "code",
   "execution_count": 25,
   "id": "a2f14f97-b32c-44c2-90b8-59428e9464b4",
   "metadata": {},
   "outputs": [
    {
     "data": {
      "text/plain": [
       "total_policy_claims\n",
       "1.0    789\n",
       "2.0    105\n",
       "3.0     85\n",
       "4.0     59\n",
       "5.0     27\n",
       "6.0     10\n",
       "7.0      2\n",
       "8.0      1\n",
       "Name: count, dtype: int64"
      ]
     },
     "execution_count": 25,
     "metadata": {},
     "output_type": "execute_result"
    }
   ],
   "source": [
    "cust_claim.total_policy_claims.value_counts()"
   ]
  },
  {
   "cell_type": "code",
   "execution_count": 26,
   "id": "bfdb791b-c4ea-4233-987a-6a61f4ae1ee6",
   "metadata": {},
   "outputs": [],
   "source": [
    "# replace continuous variable with mean()\n",
    "cust_claim['claim_amount'] = np.where(cust_claim.claim_amount.isna(),cust_claim.claim_amount.mean().round(2),cust_claim['claim_amount'])"
   ]
  },
  {
   "cell_type": "code",
   "execution_count": 27,
   "id": "94d9ee2e-0780-4daa-9060-38e3ab21cd8a",
   "metadata": {},
   "outputs": [
    {
     "data": {
      "text/plain": [
       "0       12-Jan-79\n",
       "1       13-Jan-70\n",
       "3       11-Mar-84\n",
       "5       01-May-86\n",
       "7       13-May-77\n",
       "          ...    \n",
       "1087    15-Mar-81\n",
       "1088    07-Jul-96\n",
       "1089    11-Apr-90\n",
       "1090    22-Oct-64\n",
       "1091    12-Jul-95\n",
       "Name: DateOfBirth, Length: 1078, dtype: object"
      ]
     },
     "execution_count": 27,
     "metadata": {},
     "output_type": "execute_result"
    }
   ],
   "source": [
    "cust_claim.DateOfBirth"
   ]
  },
  {
   "cell_type": "code",
   "execution_count": 28,
   "id": "6ab6b875-ff3a-4302-b8c9-a59cda5bc523",
   "metadata": {},
   "outputs": [
    {
     "name": "stdout",
     "output_type": "stream",
     "text": [
      "<class 'pandas.core.frame.DataFrame'>\n",
      "Index: 1078 entries, 0 to 1091\n",
      "Data columns (total 17 columns):\n",
      " #   Column               Non-Null Count  Dtype  \n",
      "---  ------               --------------  -----  \n",
      " 0   CUST_ID              1078 non-null   int64  \n",
      " 1   gender               1078 non-null   object \n",
      " 2   DateOfBirth          1078 non-null   object \n",
      " 3   State                1078 non-null   object \n",
      " 4   Contact              1078 non-null   object \n",
      " 5   Segment              1078 non-null   object \n",
      " 6   claim_id             1078 non-null   float64\n",
      " 7   customer_id          1078 non-null   float64\n",
      " 8   incident_cause       1078 non-null   object \n",
      " 9   claim_date           1078 non-null   object \n",
      " 10  claim_area           1078 non-null   object \n",
      " 11  police_report        1078 non-null   object \n",
      " 12  claim_type           1078 non-null   object \n",
      " 13  claim_amount         1078 non-null   float64\n",
      " 14  total_policy_claims  1078 non-null   float64\n",
      " 15  fraudulent           1078 non-null   object \n",
      " 16  flag                 1078 non-null   int32  \n",
      "dtypes: float64(4), int32(1), int64(1), object(11)\n",
      "memory usage: 147.4+ KB\n"
     ]
    }
   ],
   "source": [
    "cust_claim.info()"
   ]
  },
  {
   "cell_type": "markdown",
   "id": "1a797a3d-e0dd-4204-83a7-864a6e3f908a",
   "metadata": {},
   "source": [
    "##### 7. Calculate the age of customers in years. Based on the age, categorize the customers according to the below criteria Children < 18, Youth 18-30, Adult 30-60, Senior  > 60 "
   ]
  },
  {
   "cell_type": "code",
   "execution_count": 30,
   "id": "3506e97a-89e7-41f3-9393-1fd9ec816b29",
   "metadata": {},
   "outputs": [
    {
     "data": {
      "text/html": [
       "<div>\n",
       "<style scoped>\n",
       "    .dataframe tbody tr th:only-of-type {\n",
       "        vertical-align: middle;\n",
       "    }\n",
       "\n",
       "    .dataframe tbody tr th {\n",
       "        vertical-align: top;\n",
       "    }\n",
       "\n",
       "    .dataframe thead th {\n",
       "        text-align: right;\n",
       "    }\n",
       "</style>\n",
       "<table border=\"1\" class=\"dataframe\">\n",
       "  <thead>\n",
       "    <tr style=\"text-align: right;\">\n",
       "      <th></th>\n",
       "      <th>CUST_ID</th>\n",
       "      <th>gender</th>\n",
       "      <th>DateOfBirth</th>\n",
       "      <th>State</th>\n",
       "      <th>Contact</th>\n",
       "      <th>Segment</th>\n",
       "      <th>claim_id</th>\n",
       "      <th>customer_id</th>\n",
       "      <th>incident_cause</th>\n",
       "      <th>claim_date</th>\n",
       "      <th>claim_area</th>\n",
       "      <th>police_report</th>\n",
       "      <th>claim_type</th>\n",
       "      <th>claim_amount</th>\n",
       "      <th>total_policy_claims</th>\n",
       "      <th>fraudulent</th>\n",
       "      <th>flag</th>\n",
       "      <th>Age</th>\n",
       "      <th>Age_category</th>\n",
       "    </tr>\n",
       "  </thead>\n",
       "  <tbody>\n",
       "    <tr>\n",
       "      <th>0</th>\n",
       "      <td>21868593</td>\n",
       "      <td>Female</td>\n",
       "      <td>1979-01-12</td>\n",
       "      <td>VT</td>\n",
       "      <td>789-916-8172</td>\n",
       "      <td>Platinum</td>\n",
       "      <td>54004764.0</td>\n",
       "      <td>21868593.0</td>\n",
       "      <td>Driver error</td>\n",
       "      <td>11/27/2017</td>\n",
       "      <td>Auto</td>\n",
       "      <td>No</td>\n",
       "      <td>Material only</td>\n",
       "      <td>2980.0</td>\n",
       "      <td>1.0</td>\n",
       "      <td>No</td>\n",
       "      <td>0</td>\n",
       "      <td>45</td>\n",
       "      <td>Adult</td>\n",
       "    </tr>\n",
       "    <tr>\n",
       "      <th>1</th>\n",
       "      <td>75740424</td>\n",
       "      <td>Female</td>\n",
       "      <td>1970-01-13</td>\n",
       "      <td>ME</td>\n",
       "      <td>265-543-1264</td>\n",
       "      <td>Silver</td>\n",
       "      <td>33985796.0</td>\n",
       "      <td>75740424.0</td>\n",
       "      <td>Crime</td>\n",
       "      <td>10/03/2018</td>\n",
       "      <td>Home</td>\n",
       "      <td>Unknown</td>\n",
       "      <td>Material only</td>\n",
       "      <td>2980.0</td>\n",
       "      <td>3.0</td>\n",
       "      <td>No</td>\n",
       "      <td>0</td>\n",
       "      <td>54</td>\n",
       "      <td>Adult</td>\n",
       "    </tr>\n",
       "    <tr>\n",
       "      <th>3</th>\n",
       "      <td>30308357</td>\n",
       "      <td>Female</td>\n",
       "      <td>1984-03-11</td>\n",
       "      <td>TN</td>\n",
       "      <td>798-631-4758</td>\n",
       "      <td>Silver</td>\n",
       "      <td>63017412.0</td>\n",
       "      <td>30308357.0</td>\n",
       "      <td>Driver error</td>\n",
       "      <td>04/04/2018</td>\n",
       "      <td>Auto</td>\n",
       "      <td>No</td>\n",
       "      <td>Material only</td>\n",
       "      <td>1950.0</td>\n",
       "      <td>6.0</td>\n",
       "      <td>No</td>\n",
       "      <td>0</td>\n",
       "      <td>40</td>\n",
       "      <td>Adult</td>\n",
       "    </tr>\n",
       "    <tr>\n",
       "      <th>5</th>\n",
       "      <td>47830476</td>\n",
       "      <td>Female</td>\n",
       "      <td>1986-05-01</td>\n",
       "      <td>MA</td>\n",
       "      <td>413-187-7945</td>\n",
       "      <td>Silver</td>\n",
       "      <td>91609100.0</td>\n",
       "      <td>47830476.0</td>\n",
       "      <td>Natural causes</td>\n",
       "      <td>04/12/2017</td>\n",
       "      <td>Auto</td>\n",
       "      <td>Unknown</td>\n",
       "      <td>Material only</td>\n",
       "      <td>1440.0</td>\n",
       "      <td>1.0</td>\n",
       "      <td>No</td>\n",
       "      <td>0</td>\n",
       "      <td>38</td>\n",
       "      <td>Adult</td>\n",
       "    </tr>\n",
       "    <tr>\n",
       "      <th>7</th>\n",
       "      <td>19269962</td>\n",
       "      <td>Male</td>\n",
       "      <td>1977-05-13</td>\n",
       "      <td>NV</td>\n",
       "      <td>956-871-8691</td>\n",
       "      <td>Gold</td>\n",
       "      <td>39219616.0</td>\n",
       "      <td>19269962.0</td>\n",
       "      <td>Other causes</td>\n",
       "      <td>09/26/2018</td>\n",
       "      <td>Auto</td>\n",
       "      <td>No</td>\n",
       "      <td>Material only</td>\n",
       "      <td>2240.0</td>\n",
       "      <td>2.0</td>\n",
       "      <td>No</td>\n",
       "      <td>0</td>\n",
       "      <td>47</td>\n",
       "      <td>Adult</td>\n",
       "    </tr>\n",
       "    <tr>\n",
       "      <th>...</th>\n",
       "      <td>...</td>\n",
       "      <td>...</td>\n",
       "      <td>...</td>\n",
       "      <td>...</td>\n",
       "      <td>...</td>\n",
       "      <td>...</td>\n",
       "      <td>...</td>\n",
       "      <td>...</td>\n",
       "      <td>...</td>\n",
       "      <td>...</td>\n",
       "      <td>...</td>\n",
       "      <td>...</td>\n",
       "      <td>...</td>\n",
       "      <td>...</td>\n",
       "      <td>...</td>\n",
       "      <td>...</td>\n",
       "      <td>...</td>\n",
       "      <td>...</td>\n",
       "      <td>...</td>\n",
       "    </tr>\n",
       "    <tr>\n",
       "      <th>1087</th>\n",
       "      <td>79539873</td>\n",
       "      <td>Female</td>\n",
       "      <td>1981-03-15</td>\n",
       "      <td>ND</td>\n",
       "      <td>459-425-4319</td>\n",
       "      <td>Platinum</td>\n",
       "      <td>62020796.0</td>\n",
       "      <td>79539873.0</td>\n",
       "      <td>Other driver error</td>\n",
       "      <td>09/06/2018</td>\n",
       "      <td>Auto</td>\n",
       "      <td>Yes</td>\n",
       "      <td>Material only</td>\n",
       "      <td>1770.0</td>\n",
       "      <td>1.0</td>\n",
       "      <td>No</td>\n",
       "      <td>0</td>\n",
       "      <td>43</td>\n",
       "      <td>Adult</td>\n",
       "    </tr>\n",
       "    <tr>\n",
       "      <th>1088</th>\n",
       "      <td>42364152</td>\n",
       "      <td>Female</td>\n",
       "      <td>1996-07-07</td>\n",
       "      <td>ID</td>\n",
       "      <td>529-462-1635</td>\n",
       "      <td>Silver</td>\n",
       "      <td>63269067.0</td>\n",
       "      <td>42364152.0</td>\n",
       "      <td>Other causes</td>\n",
       "      <td>05/09/2017</td>\n",
       "      <td>Home</td>\n",
       "      <td>No</td>\n",
       "      <td>Material only</td>\n",
       "      <td>2800.0</td>\n",
       "      <td>1.0</td>\n",
       "      <td>No</td>\n",
       "      <td>0</td>\n",
       "      <td>28</td>\n",
       "      <td>youth</td>\n",
       "    </tr>\n",
       "    <tr>\n",
       "      <th>1089</th>\n",
       "      <td>19888166</td>\n",
       "      <td>Male</td>\n",
       "      <td>1990-04-11</td>\n",
       "      <td>WI</td>\n",
       "      <td>712-651-9613</td>\n",
       "      <td>Gold</td>\n",
       "      <td>22690595.0</td>\n",
       "      <td>19888166.0</td>\n",
       "      <td>Other driver error</td>\n",
       "      <td>05/15/2017</td>\n",
       "      <td>Auto</td>\n",
       "      <td>Yes</td>\n",
       "      <td>Injury only</td>\n",
       "      <td>33080.0</td>\n",
       "      <td>2.0</td>\n",
       "      <td>No</td>\n",
       "      <td>0</td>\n",
       "      <td>34</td>\n",
       "      <td>Adult</td>\n",
       "    </tr>\n",
       "    <tr>\n",
       "      <th>1090</th>\n",
       "      <td>11256802</td>\n",
       "      <td>Female</td>\n",
       "      <td>1964-10-22</td>\n",
       "      <td>LA</td>\n",
       "      <td>469-345-5617</td>\n",
       "      <td>Silver</td>\n",
       "      <td>12376894.0</td>\n",
       "      <td>11256802.0</td>\n",
       "      <td>Other driver error</td>\n",
       "      <td>04/18/2017</td>\n",
       "      <td>Auto</td>\n",
       "      <td>No</td>\n",
       "      <td>Material only</td>\n",
       "      <td>2840.0</td>\n",
       "      <td>4.0</td>\n",
       "      <td>No</td>\n",
       "      <td>0</td>\n",
       "      <td>60</td>\n",
       "      <td>Senior</td>\n",
       "    </tr>\n",
       "    <tr>\n",
       "      <th>1091</th>\n",
       "      <td>61575264</td>\n",
       "      <td>Male</td>\n",
       "      <td>1995-07-12</td>\n",
       "      <td>WY</td>\n",
       "      <td>182-385-1392</td>\n",
       "      <td>Gold</td>\n",
       "      <td>63226031.0</td>\n",
       "      <td>61575264.0</td>\n",
       "      <td>Natural causes</td>\n",
       "      <td>03/16/2017</td>\n",
       "      <td>Auto</td>\n",
       "      <td>No</td>\n",
       "      <td>Material only</td>\n",
       "      <td>1490.0</td>\n",
       "      <td>1.0</td>\n",
       "      <td>No</td>\n",
       "      <td>0</td>\n",
       "      <td>29</td>\n",
       "      <td>youth</td>\n",
       "    </tr>\n",
       "  </tbody>\n",
       "</table>\n",
       "<p>1078 rows × 19 columns</p>\n",
       "</div>"
      ],
      "text/plain": [
       "       CUST_ID  gender DateOfBirth State       Contact   Segment    claim_id  \\\n",
       "0     21868593  Female  1979-01-12    VT  789-916-8172  Platinum  54004764.0   \n",
       "1     75740424  Female  1970-01-13    ME  265-543-1264    Silver  33985796.0   \n",
       "3     30308357  Female  1984-03-11    TN  798-631-4758    Silver  63017412.0   \n",
       "5     47830476  Female  1986-05-01    MA  413-187-7945    Silver  91609100.0   \n",
       "7     19269962    Male  1977-05-13    NV  956-871-8691      Gold  39219616.0   \n",
       "...        ...     ...         ...   ...           ...       ...         ...   \n",
       "1087  79539873  Female  1981-03-15    ND  459-425-4319  Platinum  62020796.0   \n",
       "1088  42364152  Female  1996-07-07    ID  529-462-1635    Silver  63269067.0   \n",
       "1089  19888166    Male  1990-04-11    WI  712-651-9613      Gold  22690595.0   \n",
       "1090  11256802  Female  1964-10-22    LA  469-345-5617    Silver  12376894.0   \n",
       "1091  61575264    Male  1995-07-12    WY  182-385-1392      Gold  63226031.0   \n",
       "\n",
       "      customer_id      incident_cause  claim_date claim_area police_report  \\\n",
       "0      21868593.0        Driver error  11/27/2017       Auto            No   \n",
       "1      75740424.0               Crime  10/03/2018       Home       Unknown   \n",
       "3      30308357.0        Driver error  04/04/2018       Auto            No   \n",
       "5      47830476.0      Natural causes  04/12/2017       Auto       Unknown   \n",
       "7      19269962.0        Other causes  09/26/2018       Auto            No   \n",
       "...           ...                 ...         ...        ...           ...   \n",
       "1087   79539873.0  Other driver error  09/06/2018       Auto           Yes   \n",
       "1088   42364152.0        Other causes  05/09/2017       Home            No   \n",
       "1089   19888166.0  Other driver error  05/15/2017       Auto           Yes   \n",
       "1090   11256802.0  Other driver error  04/18/2017       Auto            No   \n",
       "1091   61575264.0      Natural causes  03/16/2017       Auto            No   \n",
       "\n",
       "         claim_type  claim_amount  total_policy_claims fraudulent  flag  Age  \\\n",
       "0     Material only        2980.0                  1.0         No     0   45   \n",
       "1     Material only        2980.0                  3.0         No     0   54   \n",
       "3     Material only        1950.0                  6.0         No     0   40   \n",
       "5     Material only        1440.0                  1.0         No     0   38   \n",
       "7     Material only        2240.0                  2.0         No     0   47   \n",
       "...             ...           ...                  ...        ...   ...  ...   \n",
       "1087  Material only        1770.0                  1.0         No     0   43   \n",
       "1088  Material only        2800.0                  1.0         No     0   28   \n",
       "1089    Injury only       33080.0                  2.0         No     0   34   \n",
       "1090  Material only        2840.0                  4.0         No     0   60   \n",
       "1091  Material only        1490.0                  1.0         No     0   29   \n",
       "\n",
       "     Age_category  \n",
       "0           Adult  \n",
       "1           Adult  \n",
       "3           Adult  \n",
       "5           Adult  \n",
       "7           Adult  \n",
       "...           ...  \n",
       "1087        Adult  \n",
       "1088        youth  \n",
       "1089        Adult  \n",
       "1090       Senior  \n",
       "1091        youth  \n",
       "\n",
       "[1078 rows x 19 columns]"
      ]
     },
     "execution_count": 30,
     "metadata": {},
     "output_type": "execute_result"
    }
   ],
   "source": [
    "current_year = dt.datetime.now().year\n",
    "cust_claim['DateOfBirth'] = pd.to_datetime(cust_claim.DateOfBirth,format='%d-%b-%y')\n",
    "cust_claim['DateOfBirth']= np.where(cust_claim.DateOfBirth.dt.year > current_year, cust_claim.DateOfBirth - dt.timedelta(days=365.25*100), cust_claim.DateOfBirth )\n",
    "cust_claim['Age'] = current_year - cust_claim.DateOfBirth.dt.year\n",
    "cust_claim['Age_category'] = np.where(cust_claim.Age < 18,'children',\n",
    "                                      (np.where((cust_claim.Age > 18) & (cust_claim.Age <30),'youth',\n",
    "                                      (np.where((cust_claim.Age > 30) & (cust_claim.Age <60),'Adult','Senior')))))\n",
    "cust_claim"
   ]
  },
  {
   "cell_type": "markdown",
   "id": "6bbc00ff-276a-49e0-86df-53574335f2ce",
   "metadata": {},
   "source": [
    "##### 8. What is the average amount claimed by the customers from various segments?"
   ]
  },
  {
   "cell_type": "code",
   "execution_count": 32,
   "id": "34783f59-b4d6-4681-acd1-ad33ffbb5ca0",
   "metadata": {},
   "outputs": [
    {
     "data": {
      "text/plain": [
       "Segment\n",
       "Gold        12846.386199\n",
       "Platinum    12371.645014\n",
       "Silver      12267.146590\n",
       "Name: claim_amount, dtype: float64"
      ]
     },
     "execution_count": 32,
     "metadata": {},
     "output_type": "execute_result"
    }
   ],
   "source": [
    "\n",
    "cust_claim.groupby('Segment')['claim_amount'].mean()"
   ]
  },
  {
   "cell_type": "code",
   "execution_count": 33,
   "id": "0bd84798-45bf-4eb8-bdcd-9b2a48591f4f",
   "metadata": {},
   "outputs": [],
   "source": [
    "###9. What is the total claim amount based on incident cause for all the claims \n",
    "### that have been done at least 20 days prior to 1st of October, 2018."
   ]
  },
  {
   "cell_type": "code",
   "execution_count": 34,
   "id": "76daaec8-df1f-473d-8f23-03eea3007d87",
   "metadata": {},
   "outputs": [
    {
     "data": {
      "text/plain": [
       "incident_cause\n",
       "Crime                  721937.45\n",
       "Driver error          3315847.88\n",
       "Natural causes        1312744.91\n",
       "Other causes          3723147.31\n",
       "Other driver error    3277533.37\n",
       "Name: claim_amount, dtype: float64"
      ]
     },
     "execution_count": 34,
     "metadata": {},
     "output_type": "execute_result"
    }
   ],
   "source": [
    "given_date = pd.to_datetime('10-01-2018',format = '%m-%d-%Y')\n",
    "prior_date = given_date-pd.Timedelta(days=20)\n",
    "cust_claim['claim_date'] = pd.to_datetime(cust_claim.claim_date,format= '%m/%d/%Y')\n",
    "cust_claim.loc[cust_claim.claim_date < prior_date,:].groupby('incident_cause')['claim_amount'].sum()"
   ]
  },
  {
   "cell_type": "code",
   "execution_count": 35,
   "id": "d6083935-8e9a-4e4b-b569-14486916b4ea",
   "metadata": {},
   "outputs": [
    {
     "data": {
      "text/plain": [
       "incident_cause\n",
       "Other causes          284\n",
       "Driver error          259\n",
       "Other driver error    243\n",
       "Natural causes        185\n",
       "Crime                 107\n",
       "Name: count, dtype: int64"
      ]
     },
     "execution_count": 35,
     "metadata": {},
     "output_type": "execute_result"
    }
   ],
   "source": [
    "cust_claim.incident_cause.value_counts()"
   ]
  },
  {
   "cell_type": "code",
   "execution_count": 36,
   "id": "59ab5369-fbb9-4360-92a1-9fbc2defb16f",
   "metadata": {},
   "outputs": [],
   "source": [
    "###10. How many adults from TX, DE and AK claimed insurance for driver related issues and causes? "
   ]
  },
  {
   "cell_type": "code",
   "execution_count": 37,
   "id": "b55c1070-9d84-4810-9eac-7c5c9f501bb8",
   "metadata": {},
   "outputs": [
    {
     "data": {
      "text/plain": [
       "incident_cause\n",
       "Driver error          15\n",
       "Other driver error    11\n",
       "Name: count, dtype: int64"
      ]
     },
     "execution_count": 37,
     "metadata": {},
     "output_type": "execute_result"
    }
   ],
   "source": [
    "cust_claim_sum = cust_claim.loc[(cust_claim.Age_category == 'Adult') & (((cust_claim.State == 'TX') | (cust_claim.State == 'DE') | (cust_claim.State == 'AK')) & ((cust_claim.incident_cause =='Driver error')|(cust_claim.incident_cause =='Other driver error')))]['incident_cause'].value_counts()\n",
    "#cust_claim_sum.loc[(cust_claim_sum.incident_cause =='Driver error')|(cust_claim_sum.incident_cause =='Other driver error')]['incident_cause'].value_counts()\n",
    "cust_claim_sum"
   ]
  },
  {
   "cell_type": "code",
   "execution_count": 38,
   "id": "30865342-2257-4b81-8c0e-b3734b466d81",
   "metadata": {},
   "outputs": [],
   "source": [
    "##11. Draw a pie chart between the aggregated value of claim amount based on gender and segment. \n",
    "###Represent the claim amount as a percentage on the pie chart"
   ]
  },
  {
   "cell_type": "code",
   "execution_count": 39,
   "id": "1937eab8-8187-45b0-a95c-35e8a82b0284",
   "metadata": {},
   "outputs": [
    {
     "data": {
      "text/plain": [
       "<Axes: ylabel='claim_amount'>"
      ]
     },
     "execution_count": 39,
     "metadata": {},
     "output_type": "execute_result"
    },
    {
     "data": {
      "image/png": "[encoded data removed]",
      "text/plain": [
       "<Figure size 640x480 with 1 Axes>"
      ]
     },
     "metadata": {},
     "output_type": "display_data"
    }
   ],
   "source": [
    "claim_sum = cust_claim.groupby(['gender','Segment'])['claim_amount'].sum()\n",
    "claim_sum.plot(kind='pie',autopct='%.2f%%')"
   ]
  },
  {
   "cell_type": "code",
   "execution_count": 40,
   "id": "3c8afdbc-eb2d-45ad-88df-ee88b93eb14f",
   "metadata": {},
   "outputs": [],
   "source": [
    "###12. Among males and females, which gender had claimed the most for any type of driver related issues?\n",
    "###E.g. This metric can be compared using a bar chart"
   ]
  },
  {
   "cell_type": "code",
   "execution_count": 41,
   "id": "81112350-83b8-439e-8566-342df65729fa",
   "metadata": {},
   "outputs": [
    {
     "data": {
      "text/plain": [
       "<Axes: xlabel='gender', ylabel='Driver retaled issues'>"
      ]
     },
     "execution_count": 41,
     "metadata": {},
     "output_type": "execute_result"
    },
    {
     "data": {
      "image/png": "[encoded data removed]",
      "text/plain": [
       "<Figure size 640x480 with 1 Axes>"
      ]
     },
     "metadata": {},
     "output_type": "display_data"
    }
   ],
   "source": [
    "claim_summ1 = cust_claim.loc[(cust_claim.incident_cause == 'Driver error') |(cust_claim.incident_cause == 'Other driver error'),:].groupby('gender')['incident_cause'].count()\n",
    "claim_summ1.plot(kind='bar',ylabel='Driver retaled issues')"
   ]
  },
  {
   "cell_type": "code",
   "execution_count": 42,
   "id": "cdcb1bfe-6ded-4ba0-a2c2-170e0b85dd0b",
   "metadata": {},
   "outputs": [],
   "source": [
    "###13. Which age group had the maximum fraudulent policy claims? Visualize it on a bar chart?"
   ]
  },
  {
   "cell_type": "code",
   "execution_count": 43,
   "id": "7a146a70-f84c-4264-8acd-db2d5e9eda22",
   "metadata": {},
   "outputs": [
    {
     "data": {
      "text/plain": [
       "<Axes: xlabel='Age_category'>"
      ]
     },
     "execution_count": 43,
     "metadata": {},
     "output_type": "execute_result"
    },
    {
     "data": {
      "image/png": "[encoded data removed]",
      "text/plain": [
       "<Figure size 640x480 with 1 Axes>"
      ]
     },
     "metadata": {},
     "output_type": "display_data"
    }
   ],
   "source": [
    "cust_claim.loc[cust_claim.fraudulent=='Yes',:].groupby('Age_category')['fraudulent'].count().plot(kind = 'bar')\n"
   ]
  },
  {
   "cell_type": "markdown",
   "id": "0f8792f5-3947-4353-baea-88df4e85d3dc",
   "metadata": {},
   "source": [
    "### 14. Visualize the monthly trend of the total amount that has been claimed by the customers. Ensure that on the “month” axis, the month is in a chronological order not alphabetical order.  "
   ]
  },
  {
   "cell_type": "code",
   "execution_count": 45,
   "id": "68a73c50-169b-478b-b04d-37fa654db0fa",
   "metadata": {},
   "outputs": [
    {
     "data": {
      "text/plain": [
       "<Axes: xlabel='DateOfBirth'>"
      ]
     },
     "execution_count": 45,
     "metadata": {},
     "output_type": "execute_result"
    },
    {
     "data": {
      "image/png": "[encoded data removed]",
      "text/plain": [
       "<Figure size 640x480 with 1 Axes>"
      ]
     },
     "metadata": {},
     "output_type": "display_data"
    }
   ],
   "source": [
    "cust_claim.groupby(cust_claim.DateOfBirth.dt.month)['claim_amount'].sum().plot(kind='bar')"
   ]
  },
  {
   "cell_type": "markdown",
   "id": "8c8523c7-4f58-43fd-8f07-68433ccedc40",
   "metadata": {},
   "source": [
    "#### 15. What is the average claim amount for gender and age categories and suitably represent the above using a facetted bar chart, one facet that represents fraudulent claims and the other for non-fraudulent claims."
   ]
  },
  {
   "cell_type": "code",
   "execution_count": 118,
   "id": "e40e963c-08a9-4b6d-9632-23c0c80f671d",
   "metadata": {
    "scrolled": true
   },
   "outputs": [
    {
     "data": {
      "image/png": "[encoded data removed]",
      "text/plain": [
       "<Figure size 694.125x300 with 2 Axes>"
      ]
     },
     "metadata": {},
     "output_type": "display_data"
    }
   ],
   "source": [
    "avg_claim = cust_claim.groupby(['gender', 'Age_category', 'fraudulent'])['claim_amount'].mean().reset_index()\n",
    "g = sns.FacetGrid(avg_claim,col='fraudulent')\n",
    "g.map_dataframe(sns.barplot,x ='gender',y = 'claim_amount',hue = 'Age_category').add_legend()\n",
    "plt.show()\n"
   ]
  },
  {
   "cell_type": "code",
   "execution_count": null,
   "id": "faacbcae-ed8a-4224-a8e0-e1551de9f80a",
   "metadata": {},
   "outputs": [],
   "source": []
  },
  {
   "cell_type": "markdown",
   "id": "51872f93-8fb8-4d2c-889d-ad62707966d0",
   "metadata": {},
   "source": [
    "#### Based on the conclusions from exploratory analysis as well as suitable statistical tests, answer the below questions. Please include a detailed write-up on the parameters taken into consideration, the Hypothesis testing steps, conclusion from the p-values and the business implications of the statements. "
   ]
  },
  {
   "cell_type": "markdown",
   "id": "647ae583-09dd-4fed-959a-399f4c644ee6",
   "metadata": {},
   "source": [
    "##### 16. Is there any similarity in the amount claimed by males and females?"
   ]
  },
  {
   "cell_type": "markdown",
   "id": "9ac3126c-7459-4421-b4ba-917c1b617ad9",
   "metadata": {},
   "source": [
    "##### 1. Define Null and alternate hypothesis:\n",
    "        H0 : Amount claimed by male and female are not similar\n",
    "        Ha : Amount claimed by male and female are similar\n",
    "##### 2.  At CI 95%, P_value = 0.05\n",
    "##### 3. Perform the test\n",
    "        T-test/Z-test"
   ]
  },
  {
   "cell_type": "code",
   "execution_count": 146,
   "id": "01e98ead-23a2-436d-8113-48e872516a5c",
   "metadata": {},
   "outputs": [
    {
     "data": {
      "text/plain": [
       "TtestResult(statistic=-0.9630529928009985, pvalue=0.3357373064192417, df=1076.0)"
      ]
     },
     "execution_count": 146,
     "metadata": {},
     "output_type": "execute_result"
    }
   ],
   "source": [
    "cust_summ_female =cust_claim.loc[(cust_claim.gender =='Female'),'claim_amount']\n",
    "cust_summ_male = cust_claim.loc[(cust_claim.gender =='Male'),'claim_amount']\n",
    "cust_summ_female\n",
    "\n",
    "stats.ttest_ind(cust_summ_female,cust_summ_male)\n"
   ]
  },
  {
   "cell_type": "code",
   "execution_count": 148,
   "id": "7cd2398d-1cc3-4c52-8e8f-ea4666cece1a",
   "metadata": {},
   "outputs": [
    {
     "name": "stdout",
     "output_type": "stream",
     "text": [
      "Mean of amount claimed by female: 12100.692049335861\n",
      "Mean of amount claimed by male: 12884.829655172412\n"
     ]
    }
   ],
   "source": [
    "print(\"Mean of amount claimed by female:\",cust_summ_female.mean())\n",
    "print(\"Mean of amount claimed by male:\",cust_summ_male.mean())"
   ]
  },
  {
   "cell_type": "markdown",
   "id": "a9688f8d-5522-4d61-b8e7-a0cf59b6ad31",
   "metadata": {},
   "source": [
    "#### 4. Rejection Rule:\n",
    "    New P-value is greater than the p-value (0.05), so accepting null hypothesis\n",
    "#### 5.Business conclusion:\n",
    "    The mount claimed by Male are not similar to amount claimed by female."
   ]
  },
  {
   "cell_type": "markdown",
   "id": "5e47f0ed-903d-4632-ad66-1787b1fb1632",
   "metadata": {},
   "source": [
    "### 17. Is there any relationship between age category and segment?"
   ]
  },
  {
   "cell_type": "markdown",
   "id": "c8898575-03bb-4411-9a75-24e459686c84",
   "metadata": {},
   "source": [
    "#### i) Define Null and alternate hypothesis:\n",
    "    H0 - there is no dependancy between age category and segment\n",
    "    Ha - Age category and segment are dependant\n",
    "#### ii) At CI =95% P-value = 0.05\n",
    "#### iii) Perform hypothesis test:\n",
    "    Chi-Square test is used to find the relationship between 2 categorical variables.\n",
    "    observed frequency tables,"
   ]
  },
  {
   "cell_type": "code",
   "execution_count": 171,
   "id": "c817bab2-f353-40e0-b2d6-ae0aebb42883",
   "metadata": {},
   "outputs": [
    {
     "data": {
      "text/html": [
       "<div>\n",
       "<style scoped>\n",
       "    .dataframe tbody tr th:only-of-type {\n",
       "        vertical-align: middle;\n",
       "    }\n",
       "\n",
       "    .dataframe tbody tr th {\n",
       "        vertical-align: top;\n",
       "    }\n",
       "\n",
       "    .dataframe thead th {\n",
       "        text-align: right;\n",
       "    }\n",
       "</style>\n",
       "<table border=\"1\" class=\"dataframe\">\n",
       "  <thead>\n",
       "    <tr style=\"text-align: right;\">\n",
       "      <th>Segment</th>\n",
       "      <th>Gold</th>\n",
       "      <th>Platinum</th>\n",
       "      <th>Silver</th>\n",
       "    </tr>\n",
       "    <tr>\n",
       "      <th>Age_category</th>\n",
       "      <th></th>\n",
       "      <th></th>\n",
       "      <th></th>\n",
       "    </tr>\n",
       "  </thead>\n",
       "  <tbody>\n",
       "    <tr>\n",
       "      <th>Adult</th>\n",
       "      <td>270</td>\n",
       "      <td>255</td>\n",
       "      <td>247</td>\n",
       "    </tr>\n",
       "    <tr>\n",
       "      <th>Senior</th>\n",
       "      <td>53</td>\n",
       "      <td>62</td>\n",
       "      <td>50</td>\n",
       "    </tr>\n",
       "    <tr>\n",
       "      <th>youth</th>\n",
       "      <td>48</td>\n",
       "      <td>44</td>\n",
       "      <td>49</td>\n",
       "    </tr>\n",
       "  </tbody>\n",
       "</table>\n",
       "</div>"
      ],
      "text/plain": [
       "Segment       Gold  Platinum  Silver\n",
       "Age_category                        \n",
       "Adult          270       255     247\n",
       "Senior          53        62      50\n",
       "youth           48        44      49"
      ]
     },
     "execution_count": 171,
     "metadata": {},
     "output_type": "execute_result"
    }
   ],
   "source": [
    "age_seg = pd.crosstab(index= cust_claim.Age_category,columns= cust_claim.Segment)\n",
    "age_seg"
   ]
  },
  {
   "cell_type": "code",
   "execution_count": 173,
   "id": "22efdbe9-8bef-47e8-aaeb-4a8201ad80a5",
   "metadata": {},
   "outputs": [
    {
     "data": {
      "text/plain": [
       "Chi2ContingencyResult(statistic=1.896388291302472, pvalue=0.7548084418683276, dof=4, expected_freq=array([[265.68831169, 258.52690167, 247.78478664],\n",
       "       [ 56.78571429,  55.25510204,  52.95918367],\n",
       "       [ 48.52597403,  47.21799629,  45.25602968]]))"
      ]
     },
     "execution_count": 173,
     "metadata": {},
     "output_type": "execute_result"
    }
   ],
   "source": [
    "stats.chi2_contingency(age_seg)"
   ]
  },
  {
   "cell_type": "markdown",
   "id": "5400713d-4509-423b-aaeb-c220a8bd5151",
   "metadata": {},
   "source": [
    "#### iv) Rejection Rule:\n",
    "    New p-Value is greater than p-value=0.05\n",
    "    chi-score is less than the cut-off values which is 1.967\n",
    "    Accepting  Null hypothesis"
   ]
  },
  {
   "cell_type": "markdown",
   "id": "67c638e5-36a6-4700-ab1e-6a78e6845dca",
   "metadata": {},
   "source": [
    "#### v) Business conclusion:\n",
    " There is no dependancy between Age category and segment."
   ]
  },
  {
   "cell_type": "code",
   "execution_count": null,
   "id": "3c373186-6e38-42fc-a757-2f213c27886c",
   "metadata": {},
   "outputs": [],
   "source": []
  },
  {
   "cell_type": "markdown",
   "id": "8defa19d-f87b-4b1f-833f-e5ca7e415483",
   "metadata": {},
   "source": [
    "#### 18. The current year has shown a significant rise in claim amounts as compared to 2016-17 fiscal average which was $10,000."
   ]
  },
  {
   "cell_type": "code",
   "execution_count": null,
   "id": "50b7e4b5-3978-4e3e-a7e8-dcf5d234ebe9",
   "metadata": {},
   "outputs": [],
   "source": [
    "### i) There is no data for current year 2024. Latest claim entry data available in the table is from 2018. So, assumed that\n",
    "###    the current year as 2018."
   ]
  },
  {
   "cell_type": "code",
   "execution_count": null,
   "id": "a4751bbb-5901-484a-806c-f9e21dec80bf",
   "metadata": {},
   "outputs": [],
   "source": [
    "curr_claim = cust_claim.loc[cust_claim.claim_date.dt.year > 2017,:]"
   ]
  },
  {
   "cell_type": "markdown",
   "id": "30682c3e-f4d5-423d-8560-5779374d9438",
   "metadata": {},
   "source": [
    "#### 1. Define Null Hypothesis, H0: \n",
    "             \n",
    "             u > 10,000\n",
    "                        \n",
    "#### 2. Define Alternate Hypothesis, Ha:\n",
    "            \n",
    "           u < 10,000\n",
    "            \n",
    "#### 3. At CI = 95%:\n",
    "\n",
    "            p-value = 0.05\n",
    "            p-cutoff = 1.967\n",
    "    \n",
    "#### 4. Performing the test:\n",
    "            \n",
    "            z test or t -test---> sample(ttest)"
   ]
  },
  {
   "cell_type": "code",
   "execution_count": null,
   "id": "fa0e5623-b660-4252-9195-95efabcc87e1",
   "metadata": {},
   "outputs": [],
   "source": [
    "stats.ttest_1samp(curr_claim.claim_amount, 10,000)"
   ]
  },
  {
   "cell_type": "markdown",
   "id": "f81bff28-0b2c-4402-b951-e4d5850b58ca",
   "metadata": {},
   "source": [
    "#### Rejection Rule:\n",
    "    New P-value is less than the p-value (0.05), so rejecting the null hypothesis."
   ]
  },
  {
   "cell_type": "markdown",
   "id": "d9dc0831-9942-4341-b9b8-f189ca89373d",
   "metadata": {},
   "source": [
    "#### Business conclusion:\n",
    "    We can't say that the claim amount has increased significantly as compared to fiscal year 2016-2017 "
   ]
  },
  {
   "cell_type": "markdown",
   "id": "d9902fc1-83c6-4539-87f3-05d9ea8f85e4",
   "metadata": {},
   "source": [
    "#### 19. Is there any difference between age groups and insurance claims?"
   ]
  },
  {
   "cell_type": "code",
   "execution_count": 163,
   "id": "c1a135c3-deca-4462-8ffb-2955a5bb15fb",
   "metadata": {},
   "outputs": [],
   "source": [
    "s1= cust_claim.loc[cust_claim.Age_category == 'youth','total_policy_claims']\n",
    "s2= cust_claim.loc[cust_claim.Age_category == 'Adult','total_policy_claims']\n",
    "s3= cust_claim.loc[cust_claim.Age_category == 'Senior','total_policy_claims']"
   ]
  },
  {
   "cell_type": "code",
   "execution_count": 165,
   "id": "035d34ec-a0e1-4fe1-a887-e25005b2958f",
   "metadata": {},
   "outputs": [
    {
     "name": "stdout",
     "output_type": "stream",
     "text": [
      "Mean claim amount for the age category Youth is:  1.6595744680851063\n",
      "Mean claim amount for the age category Adult is:  1.5660621761658031\n",
      "Mean claim amount for the age category Senior is:  1.6\n"
     ]
    }
   ],
   "source": [
    "print(\"Mean claim amount for the age category Youth is: \",s1.mean())\n",
    "print(\"Mean claim amount for the age category Adult is: \",s2.mean())\n",
    "print(\"Mean claim amount for the age category Senior is: \",s3.mean())"
   ]
  },
  {
   "cell_type": "markdown",
   "id": "18b53bbc-13bf-499f-a33c-226b6ddf77aa",
   "metadata": {},
   "source": [
    "#### i) Define Null Hypothesis, H0: \n",
    "            \n",
    "            All age category have same insurance claim\n",
    "\n",
    "#### ii) Define Alternate Hypothesis, Ha:\n",
    "            \n",
    "           All age category have different insurance claim\n",
    "            \n",
    "#### iii) At CI = 95%:\n",
    "\n",
    "            p-value = 0.05\n",
    "            p-cutoff = 1.967\n",
    "    \n",
    "#### iv) Performing the test:\n",
    "        F- Test or Anova"
   ]
  },
  {
   "cell_type": "code",
   "execution_count": 167,
   "id": "99fc7967-beb0-4bec-a694-2c4de8bd2b70",
   "metadata": {},
   "outputs": [
    {
     "data": {
      "text/plain": [
       "F_onewayResult(statistic=0.4174165463740958, pvalue=0.6588531877120991)"
      ]
     },
     "execution_count": 167,
     "metadata": {},
     "output_type": "execute_result"
    }
   ],
   "source": [
    "stats.f_oneway(s1,s2,s3)"
   ]
  },
  {
   "cell_type": "markdown",
   "id": "b7d1b276-556c-4041-b2be-f3ddb1cf4236",
   "metadata": {},
   "source": [
    "#### iv) Rejection rule:\n",
    "    p-value is high hence accept null hypothesis.\n",
    "#### V) Business conclusion:\n",
    "     With the given details we cant conclude that there is difference in age categorys and insurance claims."
   ]
  },
  {
   "cell_type": "markdown",
   "id": "f442099f-8e3e-45e5-aa61-591650527f24",
   "metadata": {},
   "source": [
    "#### 20. Is there any relationship between total number of policy claims and the claimed amount?"
   ]
  },
  {
   "cell_type": "markdown",
   "id": "786d533b-8a03-4581-94be-8a82c23d62ea",
   "metadata": {},
   "source": [
    "###### i) Define Null Hypothesis, H0: \n",
    "            \n",
    "            There is no relationship b/w total number of policy claims and the claimed amount\n",
    "\n",
    "##### ii) Define Alternate Hypothesis, Ha:\n",
    "            \n",
    "            There is a relationship b/w total number of policy claims and the claimed amount\n",
    "            \n",
    "##### iii) At CI = 95%:\n",
    "\n",
    "            p-value = 0.05\n",
    "            p-cutoff = 1.967\n",
    "    \n",
    "##### iv) Performing the test:\n",
    "            \n",
    "            pearsonr()"
   ]
  },
  {
   "cell_type": "code",
   "execution_count": null,
   "id": "9ba20d10-7abe-4add-ac39-2bcf81b7840c",
   "metadata": {},
   "outputs": [],
   "source": [
    "stats.pearsonr(cust_claim.total_policy_claims,cust_claim.claim_amount)"
   ]
  },
  {
   "cell_type": "markdown",
   "id": "7ae5f17d-5ece-4abb-998e-97b894be7627",
   "metadata": {},
   "source": [
    "#### Rejection Rule:\n",
    "    New P-value is greater than the p-value (0.05), so accepting the null hypothesis."
   ]
  },
  {
   "cell_type": "markdown",
   "id": "34e98db9-6042-41c1-a078-ce532c4c65bd",
   "metadata": {},
   "source": [
    "#### Business conclusion:\n",
    "    There is no relationship b/w total number of policy claims and the claimed amount"
   ]
  },
  {
   "cell_type": "code",
   "execution_count": null,
   "id": "5219164e-febc-446e-b905-6d62089ed579",
   "metadata": {},
   "outputs": [],
   "source": []
  }
 ],
 "metadata": {
  "kernelspec": {
   "display_name": "Python 3 (ipykernel)",
   "language": "python",
   "name": "python3"
  },
  "language_info": {
   "codemirror_mode": {
    "name": "ipython",
    "version": 3
   },
   "file_extension": ".py",
   "mimetype": "text/x-python",
   "name": "python",
   "nbconvert_exporter": "python",
   "pygments_lexer": "ipython3",
   "version": "3.11.7"
  }
 },
 "nbformat": 4,
 "nbformat_minor": 5
}
