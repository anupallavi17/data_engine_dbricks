{
 "cells": [
  {
   "cell_type": "code",
   "execution_count": 275,
   "id": "3d071104-e9b7-450b-a4a8-35411edf8fcc",
   "metadata": {},
   "outputs": [],
   "source": [
    "import pandas as pd\n",
    "import numpy as np\n",
    "import datetime as dt\n",
    "from matplotlib import pyplot as plt\n",
    "from scipy import stats as stats\n",
    "import seaborn as sns\n",
    "%matplotlib inline"
   ]
  },
  {
   "cell_type": "markdown",
   "id": "4d5bb437-ca27-48bb-948a-3a4804799d22",
   "metadata": {},
   "source": [
    "### Business problem 1"
   ]
  },
  {
   "cell_type": "code",
   "execution_count": 137,
   "id": "1d724ce5-56cf-4c08-967c-090ab1377422",
   "metadata": {},
   "outputs": [],
   "source": [
    "loan_data = pd.read_csv('LoansData.csv')"
   ]
  },
  {
   "cell_type": "code",
   "execution_count": 185,
   "id": "8238f2ba-7abc-41fd-a6b6-f8a8a684c46d",
   "metadata": {},
   "outputs": [
    {
     "data": {
      "text/plain": [
       "<bound method Series.unique of 0       debt_consolidation\n",
       "1       debt_consolidation\n",
       "2       debt_consolidation\n",
       "3       debt_consolidation\n",
       "4              credit_card\n",
       "               ...        \n",
       "2495    debt_consolidation\n",
       "2496      home_improvement\n",
       "2497    debt_consolidation\n",
       "2498        major_purchase\n",
       "2499    debt_consolidation\n",
       "Name: Loan_Purpose, Length: 2500, dtype: object>"
      ]
     },
     "execution_count": 185,
     "metadata": {},
     "output_type": "execute_result"
    }
   ],
   "source": [
    "loan_data['Loan_Purpose'].unique"
   ]
  },
  {
   "cell_type": "code",
   "execution_count": 159,
   "id": "a9b9da7d-543f-43e5-a520-dbfa47d94934",
   "metadata": {},
   "outputs": [
    {
     "name": "stdout",
     "output_type": "stream",
     "text": [
      "<class 'pandas.core.frame.DataFrame'>\n",
      "RangeIndex: 2500 entries, 0 to 2499\n",
      "Data columns (total 14 columns):\n",
      " #   Column                          Non-Null Count  Dtype  \n",
      "---  ------                          --------------  -----  \n",
      " 0   Amount_Requested                2499 non-null   float64\n",
      " 1   Amount_Funded_By_Investors      2499 non-null   float64\n",
      " 2   Interest_Rate                   2498 non-null   float64\n",
      " 3   Loan_Length                     2500 non-null   int64  \n",
      " 4   Loan_Purpose                    2500 non-null   object \n",
      " 5   Debt_To_Income_Ratio            2499 non-null   object \n",
      " 6   State                           2500 non-null   object \n",
      " 7   Home_Ownership                  2499 non-null   object \n",
      " 8   Monthly_Income                  2499 non-null   float64\n",
      " 9   FICO_Range                      2498 non-null   object \n",
      " 10  Open_CREDIT_Lines               2497 non-null   float64\n",
      " 11  Revolving_CREDIT_Balance        2497 non-null   float64\n",
      " 12  Inquiries_in_the_Last_6_Months  2497 non-null   float64\n",
      " 13  Employment_Length               2500 non-null   float64\n",
      "dtypes: float64(8), int64(1), object(5)\n",
      "memory usage: 273.6+ KB\n"
     ]
    }
   ],
   "source": [
    "loan_data.info()"
   ]
  },
  {
   "cell_type": "code",
   "execution_count": 141,
   "id": "b5151cd0-bf16-4512-8024-6e3a63c5b440",
   "metadata": {},
   "outputs": [],
   "source": [
    "# rename to appropriate column name\n",
    "loan_data.columns = loan_data.apply(lambda x:x.name.replace(\".\",\"_\"))"
   ]
  },
  {
   "cell_type": "code",
   "execution_count": 143,
   "id": "ce51c6f1-1b1b-4798-80b1-eaf8e5d032c7",
   "metadata": {},
   "outputs": [],
   "source": [
    "#load_data['Employment.Length']=\n",
    "loan_data['Employment_Length']=pd.to_numeric(loan_data['Employment_Length'].str.rstrip(\"+ years\").str.lstrip(\"<>\"))\n",
    "loan_data['Loan_Length'] = pd.to_numeric(loan_data['Loan_Length'].str.rstrip('months'))"
   ]
  },
  {
   "cell_type": "code",
   "execution_count": 145,
   "id": "c531c744-9bba-4680-b20b-847e5efb1a7c",
   "metadata": {},
   "outputs": [],
   "source": [
    "#Replace the null values of Employment length by mean of the column values\n",
    "loan_data['Employment_Length']=np.where(loan_data['Employment_Length'].isna(),loan_data['Employment_Length'].mean(),loan_data['Employment_Length'])"
   ]
  },
  {
   "cell_type": "code",
   "execution_count": 92,
   "id": "c6f7ea16-1933-47bb-b6af-2d3500371008",
   "metadata": {},
   "outputs": [
    {
     "data": {
      "text/plain": [
       "Amount_Requested                  1\n",
       "Amount_Funded_By_Investors        1\n",
       "Interest_Rate                     2\n",
       "Loan_Length                       0\n",
       "Loan_Purpose                      0\n",
       "Debt_To_Income_Ratio              1\n",
       "State                             0\n",
       "Home_Ownership                    1\n",
       "Monthly_Income                    1\n",
       "FICO_Range                        2\n",
       "Open_CREDIT_Lines                 3\n",
       "Revolving_CREDIT_Balance          3\n",
       "Inquiries_in_the_Last_6_Months    3\n",
       "Employment_Length                 0\n",
       "dtype: int64"
      ]
     },
     "execution_count": 92,
     "metadata": {},
     "output_type": "execute_result"
    }
   ],
   "source": [
    "loan_data.isna().sum()"
   ]
  },
  {
   "cell_type": "code",
   "execution_count": 147,
   "id": "004c4cac-b25b-4e24-80dd-043ee1f0138e",
   "metadata": {},
   "outputs": [],
   "source": [
    "loan_data['Interest_Rate']=pd.to_numeric(loan_data['Interest_Rate'].str.rstrip(\"%\"))"
   ]
  },
  {
   "cell_type": "code",
   "execution_count": 149,
   "id": "526b90d0-7232-4746-9797-62541d1bc47f",
   "metadata": {},
   "outputs": [
    {
     "data": {
      "text/plain": [
       "Index(['Amount_Requested', 'Amount_Funded_By_Investors', 'Interest_Rate',\n",
       "       'Loan_Length', 'Loan_Purpose', 'Debt_To_Income_Ratio', 'State',\n",
       "       'Home_Ownership', 'Monthly_Income', 'FICO_Range', 'Open_CREDIT_Lines',\n",
       "       'Revolving_CREDIT_Balance', 'Inquiries_in_the_Last_6_Months',\n",
       "       'Employment_Length'],\n",
       "      dtype='object')"
      ]
     },
     "execution_count": 149,
     "metadata": {},
     "output_type": "execute_result"
    }
   ],
   "source": [
    "loan_data.columns"
   ]
  },
  {
   "cell_type": "code",
   "execution_count": 151,
   "id": "499f7476-0443-4aa3-a9b0-bd534648ca90",
   "metadata": {},
   "outputs": [],
   "source": [
    "loan_data.drop_duplicates(inplace =True)"
   ]
  },
  {
   "cell_type": "code",
   "execution_count": 161,
   "id": "6fd2d362-d230-4591-9eeb-ad611f04a47a",
   "metadata": {},
   "outputs": [],
   "source": [
    "loan_data_cat_col = loan_data.select_dtypes('object').columns\n",
    "# there are no integer column selecting only float dtype\n",
    "loan_data_con_col = loan_data.select_dtypes(['float64','int64']).columns"
   ]
  },
  {
   "cell_type": "code",
   "execution_count": 163,
   "id": "972beb55-91a7-4cc0-8e1f-ebd8204fe526",
   "metadata": {},
   "outputs": [
    {
     "data": {
      "text/plain": [
       "Index(['Loan_Purpose', 'Debt_To_Income_Ratio', 'State', 'Home_Ownership',\n",
       "       'FICO_Range'],\n",
       "      dtype='object')"
      ]
     },
     "execution_count": 163,
     "metadata": {},
     "output_type": "execute_result"
    }
   ],
   "source": [
    "loan_data_cat_col"
   ]
  },
  {
   "cell_type": "code",
   "execution_count": 165,
   "id": "4e2cad0e-6691-4817-9a41-1b1486b0b37e",
   "metadata": {},
   "outputs": [
    {
     "data": {
      "text/plain": [
       "Index(['Amount_Requested', 'Amount_Funded_By_Investors', 'Interest_Rate',\n",
       "       'Loan_Length', 'Monthly_Income', 'Open_CREDIT_Lines',\n",
       "       'Revolving_CREDIT_Balance', 'Inquiries_in_the_Last_6_Months',\n",
       "       'Employment_Length'],\n",
       "      dtype='object')"
      ]
     },
     "execution_count": 165,
     "metadata": {},
     "output_type": "execute_result"
    }
   ],
   "source": [
    "loan_data_con_col"
   ]
  },
  {
   "cell_type": "code",
   "execution_count": 167,
   "id": "62582317-ae38-4bbf-a586-5e9333357b61",
   "metadata": {},
   "outputs": [],
   "source": [
    "# handling missing values in categorical variable columns\n",
    "for column in loan_data_cat_col:\n",
    "    loan_data[column] = np.where(loan_data[column].isna(),loan_data[column].mode()[0],loan_data[column])"
   ]
  },
  {
   "cell_type": "code",
   "execution_count": 169,
   "id": "c715ca7a-de5e-48f3-bd0a-b41e327f7242",
   "metadata": {},
   "outputs": [],
   "source": [
    "# handling missing values in continuous variable columns\n",
    "for column in loan_data_con_col:\n",
    "    loan_data[column] = np.where(loan_data[column].isna(),loan_data[column].mean(),loan_data[column])"
   ]
  },
  {
   "cell_type": "code",
   "execution_count": 171,
   "id": "db7534e3-d1cf-45f9-9398-139068ae3f2c",
   "metadata": {},
   "outputs": [],
   "source": [
    "# outlier treatment\n",
    "for col in loan_data_con_col:\n",
    "        loan_data[col] = np.where(loan_data[col] > loan_data[col].quantile(0.99) ,\n",
    "                                    loan_data[col].quantile(0.99), loan_data[col])"
   ]
  },
  {
   "cell_type": "code",
   "execution_count": 173,
   "id": "38e53efd-b887-492b-b918-8cab5a1a0f0e",
   "metadata": {},
   "outputs": [
    {
     "name": "stdout",
     "output_type": "stream",
     "text": [
      "<class 'pandas.core.frame.DataFrame'>\n",
      "RangeIndex: 2500 entries, 0 to 2499\n",
      "Data columns (total 14 columns):\n",
      " #   Column                          Non-Null Count  Dtype  \n",
      "---  ------                          --------------  -----  \n",
      " 0   Amount_Requested                2500 non-null   float64\n",
      " 1   Amount_Funded_By_Investors      2500 non-null   float64\n",
      " 2   Interest_Rate                   2500 non-null   float64\n",
      " 3   Loan_Length                     2500 non-null   float64\n",
      " 4   Loan_Purpose                    2500 non-null   object \n",
      " 5   Debt_To_Income_Ratio            2500 non-null   object \n",
      " 6   State                           2500 non-null   object \n",
      " 7   Home_Ownership                  2500 non-null   object \n",
      " 8   Monthly_Income                  2500 non-null   float64\n",
      " 9   FICO_Range                      2500 non-null   object \n",
      " 10  Open_CREDIT_Lines               2500 non-null   float64\n",
      " 11  Revolving_CREDIT_Balance        2500 non-null   float64\n",
      " 12  Inquiries_in_the_Last_6_Months  2500 non-null   float64\n",
      " 13  Employment_Length               2500 non-null   float64\n",
      "dtypes: float64(9), object(5)\n",
      "memory usage: 273.6+ KB\n"
     ]
    }
   ],
   "source": [
    "loan_data.info()"
   ]
  },
  {
   "cell_type": "markdown",
   "id": "7cc6e83d-e5ac-438d-bb50-e19f0a04bf3f",
   "metadata": {},
   "source": [
    "#### a. Interest rate is varied for different loan amounts (Less interest charged for high loan amounts) "
   ]
  },
  {
   "cell_type": "markdown",
   "id": "f3a08ae5-83e2-4486-afba-3742a7bdd2a2",
   "metadata": {},
   "source": [
    "##### i) Define null and alternate hypothesis:\n",
    "###### Ho - Interest rate has no dependancy on loan amounts\n",
    "###### Ha  - Interest rate depends on loan amount\n",
    "\n",
    "##### ii) At CI =95% p value is 0.05\n",
    "##### iii) Perform hypothesis test:\n",
    "##### Pearsonr is used to perform the test\n"
   ]
  },
  {
   "cell_type": "code",
   "execution_count": 175,
   "id": "98702ab9-8501-47dc-b10c-33616587e7eb",
   "metadata": {},
   "outputs": [
    {
     "data": {
      "text/plain": [
       "PearsonRResult(statistic=0.3356471334323706, pvalue=6.933560221720508e-67)"
      ]
     },
     "execution_count": 175,
     "metadata": {},
     "output_type": "execute_result"
    }
   ],
   "source": [
    "stats.pearsonr(loan_data['Interest_Rate'],loan_data['Amount_Funded_By_Investors'])"
   ]
  },
  {
   "cell_type": "markdown",
   "id": "f80ee305-7306-4f8e-9daa-6ad00a041bcf",
   "metadata": {},
   "source": [
    "##### iv) Rejection rule:\n",
    "######        New p value is lesser than the p value, so Rejecting the null hypothesis."
   ]
  },
  {
   "cell_type": "markdown",
   "id": "826ddf16-9252-475e-935c-043639836247",
   "metadata": {},
   "source": [
    "##### v) Business conclusion:\n",
    "######       There is corelation between Interest rate and Loan amount. "
   ]
  },
  {
   "cell_type": "markdown",
   "id": "a14e2df0-5cac-443b-b8ad-24ef40a8dcdd",
   "metadata": {},
   "source": [
    "#### b. Loan length is directly effecting intrest rate. "
   ]
  },
  {
   "cell_type": "code",
   "execution_count": null,
   "id": "32aaf5a2-33f4-4225-ae81-d6789a75df9a",
   "metadata": {},
   "outputs": [],
   "source": [
    "##### i) Define null and alternate hypothesis:\n",
    "###### Ho - Interest rate has no dependancy on Loan length\n",
    "###### Ha  - Interest rate depends on loan length\n",
    "\n",
    "##### ii) At CI =95% p value is 0.05\n",
    "##### iii) Perform hypothesis test:\n",
    "##### pearsonr is used to perform the test,"
   ]
  },
  {
   "cell_type": "code",
   "execution_count": 177,
   "id": "83ca03a5-7be9-47f5-846c-00203e92fef6",
   "metadata": {},
   "outputs": [
    {
     "data": {
      "text/plain": [
       "PearsonRResult(statistic=0.4229100768542532, pvalue=4.873263336758549e-109)"
      ]
     },
     "execution_count": 177,
     "metadata": {},
     "output_type": "execute_result"
    }
   ],
   "source": [
    "stats.pearsonr(loan_data['Loan_Length'],loan_data['Interest_Rate'])"
   ]
  },
  {
   "cell_type": "markdown",
   "id": "86d90e42-86a1-4be2-b324-ae84caddfb42",
   "metadata": {},
   "source": [
    "##### iv) Rejection rule:\n",
    "######        New p value is lesser than the p value, so Rejecting the null hypothesis.\n",
    "##### v) Business conclusion:\n",
    "######       There is corelation between Loan length and Interest rate."
   ]
  },
  {
   "cell_type": "markdown",
   "id": "7d580ef3-666e-4688-af12-45a3c4f9cc66",
   "metadata": {},
   "source": [
    "#### c. Inrest rate varies for different purpose of loans"
   ]
  },
  {
   "cell_type": "markdown",
   "id": "7f0c70f4-2b16-4f02-af93-f20c662b6182",
   "metadata": {},
   "source": [
    "##### i) Define null and alternate hypothesis:\n",
    "###### Ho - Interest rate has no dependancy on Purpose of loan\n",
    "###### Ha  - Interest rate depends on Purpose of loan\n",
    "\n",
    "##### ii) At CI =95% p value is 0.05\n",
    "##### iii) Perform hypothesis test:\n",
    "#####  ftest is used to perform the test,"
   ]
  },
  {
   "cell_type": "code",
   "execution_count": 333,
   "id": "4c2970b7-997b-43be-b1c0-1debd151974f",
   "metadata": {},
   "outputs": [],
   "source": [
    "s1 = loan_data.loc[ loan_data.Loan_Purpose == 'debt_consolidation', 'Interest_Rate' ]\n",
    "s2 = loan_data.loc[ loan_data.Loan_Purpose == 'credit_card', 'Interest_Rate' ]\n",
    "s3 = loan_data.loc[ loan_data.Loan_Purpose == 'other', 'Interest_Rate' ]\n",
    "s4 = loan_data.loc[ loan_data.Loan_Purpose == 'moving', 'Interest_Rate' ]\n",
    "s5 = loan_data.loc[ loan_data.Loan_Purpose == 'car', 'Interest_Rate' ]\n",
    "s6 = loan_data.loc[ loan_data.Loan_Purpose == 'vacation', 'Interest_Rate' ]\n",
    "s7 = loan_data.loc[ loan_data.Loan_Purpose == 'home_improvement', 'Interest_Rate' ]\n",
    "s8 = loan_data.loc[ loan_data.Loan_Purpose == 'house', 'Interest_Rate' ]\n",
    "s9 = loan_data.loc[ loan_data.Loan_Purpose == 'major_purchase', 'Interest_Rate' ]\n",
    "s10 = loan_data.loc[ loan_data.Loan_Purpose == 'educational', 'Interest_Rate' ]\n",
    "s11 = loan_data.loc[ loan_data.Loan_Purpose == 'medical', 'Interest_Rate' ]\n",
    "s12 = loan_data.loc[ loan_data.Loan_Purpose == 'wedding', 'Interest_Rate' ]\n",
    "s13 = loan_data.loc[ loan_data.Loan_Purpose == 'small_business', 'Interest_Rate' ]\n",
    "s14 = loan_data.loc[ loan_data.Loan_Purpose == 'renewable_energy', 'Interest_Rate' ]"
   ]
  },
  {
   "cell_type": "code",
   "execution_count": 335,
   "id": "606ad8d8-2996-4675-aa63-998f79fe0cc1",
   "metadata": {},
   "outputs": [
    {
     "data": {
      "text/plain": [
       "F_onewayResult(statistic=7.480187740702924, pvalue=1.1758940981686626e-14)"
      ]
     },
     "execution_count": 335,
     "metadata": {},
     "output_type": "execute_result"
    }
   ],
   "source": [
    "stats.f_oneway(s1,s2,s3,s4,s5,s6,s7,s8,s9,s10,s11,s12,s13,s14)"
   ]
  },
  {
   "cell_type": "markdown",
   "id": "919d5953-e1dd-472a-a4e0-0580badad8ce",
   "metadata": {},
   "source": [
    "##### iv) Rejection Rules:\n",
    "###### Since the new  p-value > 0.05, we accept the H0.\n",
    "##### v) Business Conclusion:\n",
    "###### Based on the above analysis we can conclude that the interest has no dependancy on purpose of loan."
   ]
  },
  {
   "cell_type": "markdown",
   "id": "97e7b734-ac53-44d3-a461-81dd30e18485",
   "metadata": {},
   "source": [
    "#### d.There is relationship between FICO scores and Home Ownership. It means that, People with owning home will have high FICO scores. "
   ]
  },
  {
   "cell_type": "markdown",
   "id": "9f4c1d53-f3c1-4da1-aee2-bfbb42f3a9a3",
   "metadata": {},
   "source": [
    "##### 1. Define Null Hypothesis, H0: \n",
    "            There is no relationship b/w FICO & Home Ownership\n",
    "##### 2. Define Alternate Hypothesis, Ha:\n",
    "           There is a relationship b/w FICO & Home Ownership\n",
    "##### 3. At CI = 95%:\n",
    "            p-value = 0.05\n",
    "            p-cutoff = 1.967\n",
    "##### 4. Performing the test:         \n",
    "            chi-square test"
   ]
  },
  {
   "cell_type": "code",
   "execution_count": 391,
   "id": "0915b272-16eb-467c-9809-8881e26b254f",
   "metadata": {},
   "outputs": [
    {
     "data": {
      "text/html": [
       "<div>\n",
       "<style scoped>\n",
       "    .dataframe tbody tr th:only-of-type {\n",
       "        vertical-align: middle;\n",
       "    }\n",
       "\n",
       "    .dataframe tbody tr th {\n",
       "        vertical-align: top;\n",
       "    }\n",
       "\n",
       "    .dataframe thead th {\n",
       "        text-align: right;\n",
       "    }\n",
       "</style>\n",
       "<table border=\"1\" class=\"dataframe\">\n",
       "  <thead>\n",
       "    <tr style=\"text-align: right;\">\n",
       "      <th>FICO_Range</th>\n",
       "      <th>640-644</th>\n",
       "      <th>645-649</th>\n",
       "      <th>650-654</th>\n",
       "      <th>655-659</th>\n",
       "      <th>660-664</th>\n",
       "      <th>665-669</th>\n",
       "      <th>670-674</th>\n",
       "      <th>675-679</th>\n",
       "      <th>680-684</th>\n",
       "      <th>685-689</th>\n",
       "      <th>...</th>\n",
       "      <th>780-784</th>\n",
       "      <th>785-789</th>\n",
       "      <th>790-794</th>\n",
       "      <th>795-799</th>\n",
       "      <th>800-804</th>\n",
       "      <th>805-809</th>\n",
       "      <th>810-814</th>\n",
       "      <th>815-819</th>\n",
       "      <th>820-824</th>\n",
       "      <th>830-834</th>\n",
       "    </tr>\n",
       "    <tr>\n",
       "      <th>Home_Ownership</th>\n",
       "      <th></th>\n",
       "      <th></th>\n",
       "      <th></th>\n",
       "      <th></th>\n",
       "      <th></th>\n",
       "      <th></th>\n",
       "      <th></th>\n",
       "      <th></th>\n",
       "      <th></th>\n",
       "      <th></th>\n",
       "      <th></th>\n",
       "      <th></th>\n",
       "      <th></th>\n",
       "      <th></th>\n",
       "      <th></th>\n",
       "      <th></th>\n",
       "      <th></th>\n",
       "      <th></th>\n",
       "      <th></th>\n",
       "      <th></th>\n",
       "      <th></th>\n",
       "    </tr>\n",
       "  </thead>\n",
       "  <tbody>\n",
       "    <tr>\n",
       "      <th>MORTGAGE</th>\n",
       "      <td>0</td>\n",
       "      <td>1</td>\n",
       "      <td>1</td>\n",
       "      <td>0</td>\n",
       "      <td>41</td>\n",
       "      <td>52</td>\n",
       "      <td>68</td>\n",
       "      <td>79</td>\n",
       "      <td>55</td>\n",
       "      <td>61</td>\n",
       "      <td>...</td>\n",
       "      <td>21</td>\n",
       "      <td>12</td>\n",
       "      <td>15</td>\n",
       "      <td>7</td>\n",
       "      <td>7</td>\n",
       "      <td>6</td>\n",
       "      <td>5</td>\n",
       "      <td>6</td>\n",
       "      <td>0</td>\n",
       "      <td>1</td>\n",
       "    </tr>\n",
       "    <tr>\n",
       "      <th>NONE</th>\n",
       "      <td>0</td>\n",
       "      <td>0</td>\n",
       "      <td>0</td>\n",
       "      <td>0</td>\n",
       "      <td>0</td>\n",
       "      <td>0</td>\n",
       "      <td>0</td>\n",
       "      <td>0</td>\n",
       "      <td>0</td>\n",
       "      <td>0</td>\n",
       "      <td>...</td>\n",
       "      <td>0</td>\n",
       "      <td>0</td>\n",
       "      <td>0</td>\n",
       "      <td>0</td>\n",
       "      <td>1</td>\n",
       "      <td>0</td>\n",
       "      <td>0</td>\n",
       "      <td>0</td>\n",
       "      <td>0</td>\n",
       "      <td>0</td>\n",
       "    </tr>\n",
       "    <tr>\n",
       "      <th>OTHER</th>\n",
       "      <td>0</td>\n",
       "      <td>0</td>\n",
       "      <td>0</td>\n",
       "      <td>1</td>\n",
       "      <td>0</td>\n",
       "      <td>0</td>\n",
       "      <td>1</td>\n",
       "      <td>1</td>\n",
       "      <td>2</td>\n",
       "      <td>0</td>\n",
       "      <td>...</td>\n",
       "      <td>0</td>\n",
       "      <td>0</td>\n",
       "      <td>0</td>\n",
       "      <td>0</td>\n",
       "      <td>0</td>\n",
       "      <td>0</td>\n",
       "      <td>0</td>\n",
       "      <td>0</td>\n",
       "      <td>0</td>\n",
       "      <td>0</td>\n",
       "    </tr>\n",
       "    <tr>\n",
       "      <th>OWN</th>\n",
       "      <td>1</td>\n",
       "      <td>0</td>\n",
       "      <td>0</td>\n",
       "      <td>0</td>\n",
       "      <td>17</td>\n",
       "      <td>18</td>\n",
       "      <td>13</td>\n",
       "      <td>11</td>\n",
       "      <td>9</td>\n",
       "      <td>10</td>\n",
       "      <td>...</td>\n",
       "      <td>3</td>\n",
       "      <td>2</td>\n",
       "      <td>1</td>\n",
       "      <td>1</td>\n",
       "      <td>3</td>\n",
       "      <td>2</td>\n",
       "      <td>1</td>\n",
       "      <td>0</td>\n",
       "      <td>1</td>\n",
       "      <td>0</td>\n",
       "    </tr>\n",
       "    <tr>\n",
       "      <th>RENT</th>\n",
       "      <td>4</td>\n",
       "      <td>2</td>\n",
       "      <td>0</td>\n",
       "      <td>3</td>\n",
       "      <td>67</td>\n",
       "      <td>75</td>\n",
       "      <td>91</td>\n",
       "      <td>75</td>\n",
       "      <td>91</td>\n",
       "      <td>65</td>\n",
       "      <td>...</td>\n",
       "      <td>4</td>\n",
       "      <td>5</td>\n",
       "      <td>4</td>\n",
       "      <td>5</td>\n",
       "      <td>2</td>\n",
       "      <td>3</td>\n",
       "      <td>2</td>\n",
       "      <td>0</td>\n",
       "      <td>0</td>\n",
       "      <td>0</td>\n",
       "    </tr>\n",
       "  </tbody>\n",
       "</table>\n",
       "<p>5 rows × 38 columns</p>\n",
       "</div>"
      ],
      "text/plain": [
       "FICO_Range      640-644  645-649  650-654  655-659  660-664  665-669  670-674  \\\n",
       "Home_Ownership                                                                  \n",
       "MORTGAGE              0        1        1        0       41       52       68   \n",
       "NONE                  0        0        0        0        0        0        0   \n",
       "OTHER                 0        0        0        1        0        0        1   \n",
       "OWN                   1        0        0        0       17       18       13   \n",
       "RENT                  4        2        0        3       67       75       91   \n",
       "\n",
       "FICO_Range      675-679  680-684  685-689  ...  780-784  785-789  790-794  \\\n",
       "Home_Ownership                             ...                              \n",
       "MORTGAGE             79       55       61  ...       21       12       15   \n",
       "NONE                  0        0        0  ...        0        0        0   \n",
       "OTHER                 1        2        0  ...        0        0        0   \n",
       "OWN                  11        9       10  ...        3        2        1   \n",
       "RENT                 75       91       65  ...        4        5        4   \n",
       "\n",
       "FICO_Range      795-799  800-804  805-809  810-814  815-819  820-824  830-834  \n",
       "Home_Ownership                                                                 \n",
       "MORTGAGE              7        7        6        5        6        0        1  \n",
       "NONE                  0        1        0        0        0        0        0  \n",
       "OTHER                 0        0        0        0        0        0        0  \n",
       "OWN                   1        3        2        1        0        1        0  \n",
       "RENT                  5        2        3        2        0        0        0  \n",
       "\n",
       "[5 rows x 38 columns]"
      ]
     },
     "execution_count": 391,
     "metadata": {},
     "output_type": "execute_result"
    }
   ],
   "source": [
    "### observed frequency table:\n",
    "#obs_frq = pd.crosstab(index = loan_data['FICO_Range'], columns =loan_data['Home_Ownership'])\n",
    "obs_frq = pd.crosstab(loan_data['Home_Ownership'], loan_data['FICO_Range'])\n",
    "obs_frq"
   ]
  },
  {
   "cell_type": "code",
   "execution_count": 399,
   "id": "a5d36e9f-e7cc-4016-a020-63c1d3e16907",
   "metadata": {},
   "outputs": [
    {
     "data": {
      "text/plain": [
       "1.0065160858471904e-35"
      ]
     },
     "execution_count": 399,
     "metadata": {},
     "output_type": "execute_result"
    }
   ],
   "source": [
    "stats.chi2_contingency(obs_frq)[1]"
   ]
  },
  {
   "cell_type": "markdown",
   "id": "ead4a6c3-d76e-48f0-8a67-914ba4f9b0c7",
   "metadata": {},
   "source": [
    "##### 5.Rejection rule:\n",
    "            The new Pvalue is lesser and Hence we reject H0!.\n",
    "##### 6.Conclusion\n",
    "           There is a relationship between Home ownership and FICO score."
   ]
  },
  {
   "cell_type": "markdown",
   "id": "d49934da-5005-4382-8892-593c56ad58ff",
   "metadata": {},
   "source": [
    "## BUSINESS PROBLEM - 2 "
   ]
  },
  {
   "cell_type": "markdown",
   "id": "31556869-af62-4dbd-828a-8970f5a34427",
   "metadata": {},
   "source": [
    "#### BUSINESS PROBLEM: We would like to assess if there is any difference in the average price quotes provided by Mary and Barry. "
   ]
  },
  {
   "cell_type": "code",
   "execution_count": null,
   "id": "86136936-7fb4-409b-814c-f8fe5c0fa430",
   "metadata": {},
   "outputs": [],
   "source": [
    "1. Define Null Hypothesis, H0:\n",
    "        There is no difference in average price quotes provided by Mary and Barry.\n",
    "2. Define Alternate Hypothesis, Ha:\n",
    "         There is a difference in average price quotes provided by Mary and Barry.\n",
    "        \n",
    "3. At CI = 95%:\n",
    "        p-value = 0.05\n",
    "\n",
    "4. Performing the test:\n",
    "        T-test "
   ]
  },
  {
   "cell_type": "code",
   "execution_count": 5,
   "id": "8e75fa51-b07d-46e3-a68c-0129fa8fae5c",
   "metadata": {},
   "outputs": [],
   "source": [
    "price_quotes = pd.read_csv('Price_Quotes.csv')"
   ]
  },
  {
   "cell_type": "code",
   "execution_count": 7,
   "id": "210ae016-4d4f-4690-a7ad-516eb97b6495",
   "metadata": {},
   "outputs": [
    {
     "data": {
      "text/html": [
       "<div>\n",
       "<style scoped>\n",
       "    .dataframe tbody tr th:only-of-type {\n",
       "        vertical-align: middle;\n",
       "    }\n",
       "\n",
       "    .dataframe tbody tr th {\n",
       "        vertical-align: top;\n",
       "    }\n",
       "\n",
       "    .dataframe thead th {\n",
       "        text-align: right;\n",
       "    }\n",
       "</style>\n",
       "<table border=\"1\" class=\"dataframe\">\n",
       "  <thead>\n",
       "    <tr style=\"text-align: right;\">\n",
       "      <th></th>\n",
       "      <th>Order_Number</th>\n",
       "      <th>Barry_Price</th>\n",
       "      <th>Mary_Price</th>\n",
       "    </tr>\n",
       "  </thead>\n",
       "  <tbody>\n",
       "    <tr>\n",
       "      <th>0</th>\n",
       "      <td>1</td>\n",
       "      <td>126</td>\n",
       "      <td>114</td>\n",
       "    </tr>\n",
       "    <tr>\n",
       "      <th>1</th>\n",
       "      <td>2</td>\n",
       "      <td>110</td>\n",
       "      <td>118</td>\n",
       "    </tr>\n",
       "    <tr>\n",
       "      <th>2</th>\n",
       "      <td>3</td>\n",
       "      <td>138</td>\n",
       "      <td>114</td>\n",
       "    </tr>\n",
       "    <tr>\n",
       "      <th>3</th>\n",
       "      <td>4</td>\n",
       "      <td>142</td>\n",
       "      <td>111</td>\n",
       "    </tr>\n",
       "    <tr>\n",
       "      <th>4</th>\n",
       "      <td>5</td>\n",
       "      <td>146</td>\n",
       "      <td>129</td>\n",
       "    </tr>\n",
       "    <tr>\n",
       "      <th>5</th>\n",
       "      <td>6</td>\n",
       "      <td>136</td>\n",
       "      <td>119</td>\n",
       "    </tr>\n",
       "    <tr>\n",
       "      <th>6</th>\n",
       "      <td>7</td>\n",
       "      <td>94</td>\n",
       "      <td>97</td>\n",
       "    </tr>\n",
       "    <tr>\n",
       "      <th>7</th>\n",
       "      <td>8</td>\n",
       "      <td>103</td>\n",
       "      <td>104</td>\n",
       "    </tr>\n",
       "    <tr>\n",
       "      <th>8</th>\n",
       "      <td>9</td>\n",
       "      <td>140</td>\n",
       "      <td>127</td>\n",
       "    </tr>\n",
       "    <tr>\n",
       "      <th>9</th>\n",
       "      <td>10</td>\n",
       "      <td>152</td>\n",
       "      <td>133</td>\n",
       "    </tr>\n",
       "    <tr>\n",
       "      <th>10</th>\n",
       "      <td>11</td>\n",
       "      <td>108</td>\n",
       "      <td>103</td>\n",
       "    </tr>\n",
       "    <tr>\n",
       "      <th>11</th>\n",
       "      <td>12</td>\n",
       "      <td>97</td>\n",
       "      <td>108</td>\n",
       "    </tr>\n",
       "  </tbody>\n",
       "</table>\n",
       "</div>"
      ],
      "text/plain": [
       "    Order_Number  Barry_Price  Mary_Price\n",
       "0              1          126         114\n",
       "1              2          110         118\n",
       "2              3          138         114\n",
       "3              4          142         111\n",
       "4              5          146         129\n",
       "5              6          136         119\n",
       "6              7           94          97\n",
       "7              8          103         104\n",
       "8              9          140         127\n",
       "9             10          152         133\n",
       "10            11          108         103\n",
       "11            12           97         108"
      ]
     },
     "execution_count": 7,
     "metadata": {},
     "output_type": "execute_result"
    }
   ],
   "source": [
    "price_quotes"
   ]
  },
  {
   "cell_type": "code",
   "execution_count": 20,
   "id": "d013d81c-1980-42ae-8b71-8267b9bd2799",
   "metadata": {},
   "outputs": [
    {
     "data": {
      "text/html": [
       "<div>\n",
       "<style scoped>\n",
       "    .dataframe tbody tr th:only-of-type {\n",
       "        vertical-align: middle;\n",
       "    }\n",
       "\n",
       "    .dataframe tbody tr th {\n",
       "        vertical-align: top;\n",
       "    }\n",
       "\n",
       "    .dataframe thead th {\n",
       "        text-align: right;\n",
       "    }\n",
       "</style>\n",
       "<table border=\"1\" class=\"dataframe\">\n",
       "  <thead>\n",
       "    <tr style=\"text-align: right;\">\n",
       "      <th></th>\n",
       "      <th>Order_Number</th>\n",
       "      <th>Barry_Price</th>\n",
       "      <th>Mary_Price</th>\n",
       "    </tr>\n",
       "  </thead>\n",
       "  <tbody>\n",
       "    <tr>\n",
       "      <th>count</th>\n",
       "      <td>12.000000</td>\n",
       "      <td>12.000000</td>\n",
       "      <td>12.000000</td>\n",
       "    </tr>\n",
       "    <tr>\n",
       "      <th>mean</th>\n",
       "      <td>6.500000</td>\n",
       "      <td>124.333333</td>\n",
       "      <td>114.750000</td>\n",
       "    </tr>\n",
       "    <tr>\n",
       "      <th>std</th>\n",
       "      <td>3.605551</td>\n",
       "      <td>20.698412</td>\n",
       "      <td>11.054616</td>\n",
       "    </tr>\n",
       "    <tr>\n",
       "      <th>min</th>\n",
       "      <td>1.000000</td>\n",
       "      <td>94.000000</td>\n",
       "      <td>97.000000</td>\n",
       "    </tr>\n",
       "    <tr>\n",
       "      <th>25%</th>\n",
       "      <td>3.750000</td>\n",
       "      <td>106.750000</td>\n",
       "      <td>107.000000</td>\n",
       "    </tr>\n",
       "    <tr>\n",
       "      <th>50%</th>\n",
       "      <td>6.500000</td>\n",
       "      <td>131.000000</td>\n",
       "      <td>114.000000</td>\n",
       "    </tr>\n",
       "    <tr>\n",
       "      <th>75%</th>\n",
       "      <td>9.250000</td>\n",
       "      <td>140.500000</td>\n",
       "      <td>121.000000</td>\n",
       "    </tr>\n",
       "    <tr>\n",
       "      <th>max</th>\n",
       "      <td>12.000000</td>\n",
       "      <td>152.000000</td>\n",
       "      <td>133.000000</td>\n",
       "    </tr>\n",
       "  </tbody>\n",
       "</table>\n",
       "</div>"
      ],
      "text/plain": [
       "       Order_Number  Barry_Price  Mary_Price\n",
       "count     12.000000    12.000000   12.000000\n",
       "mean       6.500000   124.333333  114.750000\n",
       "std        3.605551    20.698412   11.054616\n",
       "min        1.000000    94.000000   97.000000\n",
       "25%        3.750000   106.750000  107.000000\n",
       "50%        6.500000   131.000000  114.000000\n",
       "75%        9.250000   140.500000  121.000000\n",
       "max       12.000000   152.000000  133.000000"
      ]
     },
     "execution_count": 20,
     "metadata": {},
     "output_type": "execute_result"
    }
   ],
   "source": [
    "price_quotes.describe()"
   ]
  },
  {
   "cell_type": "code",
   "execution_count": 9,
   "id": "b037546d-913b-45a2-ad91-9c5602a03bbf",
   "metadata": {},
   "outputs": [
    {
     "data": {
      "text/plain": [
       "TtestResult(statistic=2.5213765108923494, pvalue=0.02840588045242053, df=11)"
      ]
     },
     "execution_count": 9,
     "metadata": {},
     "output_type": "execute_result"
    }
   ],
   "source": [
    "stats.ttest_rel(price_quotes.Barry_Price,price_quotes.Mary_Price)"
   ]
  },
  {
   "cell_type": "markdown",
   "id": "b85de736-b658-4ed7-82ea-71029d2afec5",
   "metadata": {},
   "source": [
    "##### 5. Rejection Rules:\n",
    "    Since the new  p-value < 0.05, we reject the H0!"
   ]
  },
  {
   "cell_type": "markdown",
   "id": "6ad81884-6f2d-466d-a856-8478934db301",
   "metadata": {},
   "source": [
    "##### 6. Business Conclusion:\n",
    "      Based on the above analysis we can conclude that there is a difference in average price quoted by Mary and Barry."
   ]
  },
  {
   "cell_type": "markdown",
   "id": "0004f2a4-1012-4d6d-a397-fd711c737713",
   "metadata": {},
   "source": [
    "### Problem Statement 3:\n",
    "    BUSINESS PROBLEM: Determine what effect, if any, the reengineering effort had on the incidence behavioral problems and staff turnover. i.e To determine if the reengineering effort changed the critical incidence rate. Isthere evidence that the critical incidence rate improved?"
   ]
  },
  {
   "cell_type": "code",
   "execution_count": 278,
   "id": "369e3a7d-e4ae-4c4f-a1b6-3f7005f9208f",
   "metadata": {},
   "outputs": [],
   "source": [
    "df_ngo=pd.read_csv('Treatment_facility.csv')\n",
    "df_ngo.rename(columns=({'VAR4':'TRFF','VAR5':'CI'}),inplace =True)"
   ]
  },
  {
   "cell_type": "code",
   "execution_count": 280,
   "id": "028b47fa-c310-447c-8fdf-d936f05cd004",
   "metadata": {},
   "outputs": [
    {
     "data": {
      "text/html": [
       "<div>\n",
       "<style scoped>\n",
       "    .dataframe tbody tr th:only-of-type {\n",
       "        vertical-align: middle;\n",
       "    }\n",
       "\n",
       "    .dataframe tbody tr th {\n",
       "        vertical-align: top;\n",
       "    }\n",
       "\n",
       "    .dataframe thead th {\n",
       "        text-align: right;\n",
       "    }\n",
       "</style>\n",
       "<table border=\"1\" class=\"dataframe\">\n",
       "  <thead>\n",
       "    <tr style=\"text-align: right;\">\n",
       "      <th></th>\n",
       "      <th>Month</th>\n",
       "      <th>Reengineer</th>\n",
       "      <th>Employee_Turnover</th>\n",
       "      <th>TRFF</th>\n",
       "      <th>CI</th>\n",
       "    </tr>\n",
       "  </thead>\n",
       "  <tbody>\n",
       "    <tr>\n",
       "      <th>0</th>\n",
       "      <td>1</td>\n",
       "      <td>Prior</td>\n",
       "      <td>0.0000</td>\n",
       "      <td>24.390244</td>\n",
       "      <td>42.682927</td>\n",
       "    </tr>\n",
       "    <tr>\n",
       "      <th>1</th>\n",
       "      <td>2</td>\n",
       "      <td>Prior</td>\n",
       "      <td>6.0606</td>\n",
       "      <td>19.354839</td>\n",
       "      <td>25.806452</td>\n",
       "    </tr>\n",
       "    <tr>\n",
       "      <th>2</th>\n",
       "      <td>3</td>\n",
       "      <td>Prior</td>\n",
       "      <td>12.1212</td>\n",
       "      <td>35.087719</td>\n",
       "      <td>146.198830</td>\n",
       "    </tr>\n",
       "    <tr>\n",
       "      <th>3</th>\n",
       "      <td>4</td>\n",
       "      <td>Prior</td>\n",
       "      <td>3.3333</td>\n",
       "      <td>18.404908</td>\n",
       "      <td>110.429448</td>\n",
       "    </tr>\n",
       "    <tr>\n",
       "      <th>4</th>\n",
       "      <td>5</td>\n",
       "      <td>Prior</td>\n",
       "      <td>12.9032</td>\n",
       "      <td>17.964072</td>\n",
       "      <td>23.952096</td>\n",
       "    </tr>\n",
       "    <tr>\n",
       "      <th>5</th>\n",
       "      <td>6</td>\n",
       "      <td>Prior</td>\n",
       "      <td>9.6774</td>\n",
       "      <td>41.176471</td>\n",
       "      <td>47.058824</td>\n",
       "    </tr>\n",
       "    <tr>\n",
       "      <th>6</th>\n",
       "      <td>7</td>\n",
       "      <td>Prior</td>\n",
       "      <td>11.7647</td>\n",
       "      <td>13.422819</td>\n",
       "      <td>0.000000</td>\n",
       "    </tr>\n",
       "    <tr>\n",
       "      <th>7</th>\n",
       "      <td>8</td>\n",
       "      <td>Prior</td>\n",
       "      <td>11.4286</td>\n",
       "      <td>31.250000</td>\n",
       "      <td>25.000000</td>\n",
       "    </tr>\n",
       "    <tr>\n",
       "      <th>8</th>\n",
       "      <td>9</td>\n",
       "      <td>Prior</td>\n",
       "      <td>23.0769</td>\n",
       "      <td>17.241379</td>\n",
       "      <td>132.183908</td>\n",
       "    </tr>\n",
       "    <tr>\n",
       "      <th>9</th>\n",
       "      <td>10</td>\n",
       "      <td>Prior</td>\n",
       "      <td>15.0000</td>\n",
       "      <td>16.574586</td>\n",
       "      <td>16.574586</td>\n",
       "    </tr>\n",
       "    <tr>\n",
       "      <th>10</th>\n",
       "      <td>11</td>\n",
       "      <td>Prior</td>\n",
       "      <td>10.0000</td>\n",
       "      <td>5.917160</td>\n",
       "      <td>88.757396</td>\n",
       "    </tr>\n",
       "    <tr>\n",
       "      <th>11</th>\n",
       "      <td>12</td>\n",
       "      <td>Prior</td>\n",
       "      <td>26.0870</td>\n",
       "      <td>21.164021</td>\n",
       "      <td>31.746032</td>\n",
       "    </tr>\n",
       "    <tr>\n",
       "      <th>12</th>\n",
       "      <td>13</td>\n",
       "      <td>Prior</td>\n",
       "      <td>11.1111</td>\n",
       "      <td>5.076142</td>\n",
       "      <td>10.152284</td>\n",
       "    </tr>\n",
       "    <tr>\n",
       "      <th>13</th>\n",
       "      <td>14</td>\n",
       "      <td>Post</td>\n",
       "      <td>26.6667</td>\n",
       "      <td>9.708738</td>\n",
       "      <td>29.126214</td>\n",
       "    </tr>\n",
       "    <tr>\n",
       "      <th>14</th>\n",
       "      <td>15</td>\n",
       "      <td>Post</td>\n",
       "      <td>17.9487</td>\n",
       "      <td>4.201681</td>\n",
       "      <td>21.008403</td>\n",
       "    </tr>\n",
       "    <tr>\n",
       "      <th>15</th>\n",
       "      <td>16</td>\n",
       "      <td>Post</td>\n",
       "      <td>12.8205</td>\n",
       "      <td>13.043478</td>\n",
       "      <td>34.782609</td>\n",
       "    </tr>\n",
       "    <tr>\n",
       "      <th>16</th>\n",
       "      <td>17</td>\n",
       "      <td>Post</td>\n",
       "      <td>15.7895</td>\n",
       "      <td>9.950249</td>\n",
       "      <td>19.900498</td>\n",
       "    </tr>\n",
       "    <tr>\n",
       "      <th>17</th>\n",
       "      <td>18</td>\n",
       "      <td>Post</td>\n",
       "      <td>0.0000</td>\n",
       "      <td>9.950249</td>\n",
       "      <td>9.950249</td>\n",
       "    </tr>\n",
       "    <tr>\n",
       "      <th>18</th>\n",
       "      <td>19</td>\n",
       "      <td>Post</td>\n",
       "      <td>30.7692</td>\n",
       "      <td>8.510638</td>\n",
       "      <td>25.531915</td>\n",
       "    </tr>\n",
       "    <tr>\n",
       "      <th>19</th>\n",
       "      <td>20</td>\n",
       "      <td>Post</td>\n",
       "      <td>26.8293</td>\n",
       "      <td>9.259259</td>\n",
       "      <td>23.148148</td>\n",
       "    </tr>\n",
       "  </tbody>\n",
       "</table>\n",
       "</div>"
      ],
      "text/plain": [
       "    Month Reengineer  Employee_Turnover       TRFF          CI\n",
       "0       1      Prior             0.0000  24.390244   42.682927\n",
       "1       2      Prior             6.0606  19.354839   25.806452\n",
       "2       3      Prior            12.1212  35.087719  146.198830\n",
       "3       4      Prior             3.3333  18.404908  110.429448\n",
       "4       5      Prior            12.9032  17.964072   23.952096\n",
       "5       6      Prior             9.6774  41.176471   47.058824\n",
       "6       7      Prior            11.7647  13.422819    0.000000\n",
       "7       8      Prior            11.4286  31.250000   25.000000\n",
       "8       9      Prior            23.0769  17.241379  132.183908\n",
       "9      10      Prior            15.0000  16.574586   16.574586\n",
       "10     11      Prior            10.0000   5.917160   88.757396\n",
       "11     12      Prior            26.0870  21.164021   31.746032\n",
       "12     13      Prior            11.1111   5.076142   10.152284\n",
       "13     14       Post            26.6667   9.708738   29.126214\n",
       "14     15       Post            17.9487   4.201681   21.008403\n",
       "15     16       Post            12.8205  13.043478   34.782609\n",
       "16     17       Post            15.7895   9.950249   19.900498\n",
       "17     18       Post             0.0000   9.950249    9.950249\n",
       "18     19       Post            30.7692   8.510638   25.531915\n",
       "19     20       Post            26.8293   9.259259   23.148148"
      ]
     },
     "execution_count": 280,
     "metadata": {},
     "output_type": "execute_result"
    }
   ],
   "source": [
    "df_ngo"
   ]
  },
  {
   "cell_type": "code",
   "execution_count": 296,
   "id": "f1611c86-0677-4552-bdf4-afcbe0dfd700",
   "metadata": {
    "scrolled": true
   },
   "outputs": [],
   "source": [
    "prior_mean = df_ngo.loc[df_ngo.Reengineer=='Prior','CI']\n",
    "post_mean = df_ngo.loc[df_ngo.Reengineer=='Post','CI']"
   ]
  },
  {
   "cell_type": "markdown",
   "id": "45e008b6-a440-4484-8d5b-94eeaf34c67e",
   "metadata": {},
   "source": [
    "##### 1. Define Null Hypothesis, H0:\n",
    "         There is no effect for re-engineering which dint reduce the critical incidence rate. \n",
    "##### 2. Define Alternate Hypothesis, Ha:\n",
    "         There is an effect for re-engineering which reduces the critical incidence rate.       \n",
    "##### 3. At CI = 95%:\n",
    "         p-value = 0.05\n",
    "##### 4. Performing the test:\n",
    "          T-test "
   ]
  },
  {
   "cell_type": "code",
   "execution_count": 298,
   "id": "3f08a4bb-3cde-47a8-b194-9ca95f2522b4",
   "metadata": {},
   "outputs": [
    {
     "name": "stdout",
     "output_type": "stream",
     "text": [
      "TtestResult(statistic=1.627914425352865, pvalue=0.12091989189884148, df=18.0)\n"
     ]
    }
   ],
   "source": [
    "print(stats.ttest_ind(prior_mean,post_mean))"
   ]
  },
  {
   "cell_type": "markdown",
   "id": "fdb805aa-4f80-4246-9332-c4ed3869ba37",
   "metadata": {},
   "source": [
    "##### 5. Rejection Rules:\n",
    "    Since the new  p-value > 0.05, we accept the H0.\n",
    "##### 6. Business Conclusion:\n",
    "      Based on the above analysis we can conclude that there is no effect on reengineering "
   ]
  },
  {
   "cell_type": "markdown",
   "id": "9dbfeb89-14f3-441d-887b-78682017b5ff",
   "metadata": {},
   "source": [
    "## BUSINESS PROBLEM - 4\n",
    "\n",
    " We will focus on the prioritization system. If the system is working, then \n",
    "high priority jobs, on average, should be completed more quickly than medium priority jobs, \n",
    "and medium priority jobs should be completed more quickly than low priority jobs. Use the \n",
    "data provided to determine whether this is, in fact, occurring."
   ]
  },
  {
   "cell_type": "code",
   "execution_count": 321,
   "id": "c1b44f4b-ce53-4ecc-98b8-3d2a24439b9c",
   "metadata": {},
   "outputs": [],
   "source": [
    "priority_df = pd.read_csv('Priority_Assessment.csv')\n",
    "priority_df\n",
    "\n",
    "high_mean = priority_df.loc[priority_df.Priority == 'High','Days']\n",
    "medium_mean = priority_df.loc[priority_df.Priority == 'Medium','Days']\n",
    "low_mean = priority_df.loc[priority_df.Priority == 'Low','Days']\n"
   ]
  },
  {
   "cell_type": "code",
   "execution_count": null,
   "id": "9cee2338-9385-4a6a-8f3f-a315fdff006a",
   "metadata": {},
   "outputs": [],
   "source": [
    "##### 1. Define Null Hypothesis, H0:\n",
    "         There is no effect in priority assignment\n",
    "##### 2. Define Alternate Hypothesis, Ha:\n",
    "         There is an effect for priority assignment       \n",
    "##### 3. At CI = 95%:\n",
    "         p-value = 0.05\n",
    "##### 4. Performing the test:\n",
    "          ftest"
   ]
  },
  {
   "cell_type": "code",
   "execution_count": 323,
   "id": "76c2724e-3168-442a-a3ae-8238361eca73",
   "metadata": {},
   "outputs": [
    {
     "data": {
      "text/plain": [
       "F_onewayResult(statistic=1.812311010076072, pvalue=0.16411459461716182)"
      ]
     },
     "execution_count": 323,
     "metadata": {},
     "output_type": "execute_result"
    }
   ],
   "source": [
    "stats.f_oneway(high_mean,medium_mean,low_mean)"
   ]
  },
  {
   "cell_type": "markdown",
   "id": "970d1cf3-f99a-4e89-afaf-609f28c9ed14",
   "metadata": {},
   "source": [
    "##### 5. Rejection Rules:\n",
    "        Since the new  p-value > 0.05, we accept the H0.\n",
    "##### 6. Business Conclusion:\n",
    "        Based on the above analysis we can conclude that there is no effect on prioritization system"
   ]
  },
  {
   "cell_type": "markdown",
   "id": "371449b1-9a71-47be-aa7a-56f2fdfa4960",
   "metadata": {},
   "source": [
    "### BUSINESS PROBLEM 5: Use the survey results to address the following questions \n",
    "        What is the overall level of customer satisfaction? \n",
    "        What factors are linked to satisfaction? \n",
    "        What is the demographic profile of Film on the Rocks patrons? \n",
    "        In what media outlet(s) should the film series be advertised?"
   ]
  },
  {
   "cell_type": "code",
   "execution_count": 707,
   "id": "b2a71f7a-4ec9-4508-8f96-74cba8439d27",
   "metadata": {},
   "outputs": [
    {
     "data": {
      "text/html": [
       "<div>\n",
       "<style scoped>\n",
       "    .dataframe tbody tr th:only-of-type {\n",
       "        vertical-align: middle;\n",
       "    }\n",
       "\n",
       "    .dataframe tbody tr th {\n",
       "        vertical-align: top;\n",
       "    }\n",
       "\n",
       "    .dataframe thead th {\n",
       "        text-align: right;\n",
       "    }\n",
       "</style>\n",
       "<table border=\"1\" class=\"dataframe\">\n",
       "  <thead>\n",
       "    <tr style=\"text-align: right;\">\n",
       "      <th></th>\n",
       "      <th>_rowstate_</th>\n",
       "      <th>Movie</th>\n",
       "      <th>Gender</th>\n",
       "      <th>Marital_Status</th>\n",
       "      <th>Sinage</th>\n",
       "      <th>Parking</th>\n",
       "      <th>Clean</th>\n",
       "      <th>Overall</th>\n",
       "      <th>Age</th>\n",
       "      <th>Income</th>\n",
       "      <th>Hear_About</th>\n",
       "    </tr>\n",
       "  </thead>\n",
       "  <tbody>\n",
       "    <tr>\n",
       "      <th>0</th>\n",
       "      <td>0</td>\n",
       "      <td>Ferris Buellers Day Off</td>\n",
       "      <td>Female</td>\n",
       "      <td>Married</td>\n",
       "      <td>2.0</td>\n",
       "      <td>2.0</td>\n",
       "      <td>2.0</td>\n",
       "      <td>2.0</td>\n",
       "      <td>3.0</td>\n",
       "      <td>1.0</td>\n",
       "      <td>5</td>\n",
       "    </tr>\n",
       "    <tr>\n",
       "      <th>1</th>\n",
       "      <td>0</td>\n",
       "      <td>Ferris Buellers Day Off</td>\n",
       "      <td>Female</td>\n",
       "      <td>Single</td>\n",
       "      <td>1.0</td>\n",
       "      <td>1.0</td>\n",
       "      <td>1.0</td>\n",
       "      <td>1.0</td>\n",
       "      <td>2.0</td>\n",
       "      <td>1.0</td>\n",
       "      <td>5</td>\n",
       "    </tr>\n",
       "    <tr>\n",
       "      <th>2</th>\n",
       "      <td>0</td>\n",
       "      <td>Ferris Buellers Day Off</td>\n",
       "      <td>Male</td>\n",
       "      <td>Married</td>\n",
       "      <td>2.0</td>\n",
       "      <td>4.0</td>\n",
       "      <td>3.0</td>\n",
       "      <td>2.0</td>\n",
       "      <td>4.0</td>\n",
       "      <td>1.0</td>\n",
       "      <td>5</td>\n",
       "    </tr>\n",
       "    <tr>\n",
       "      <th>3</th>\n",
       "      <td>0</td>\n",
       "      <td>Ferris Buellers Day Off</td>\n",
       "      <td>Female</td>\n",
       "      <td>Married</td>\n",
       "      <td>1.0</td>\n",
       "      <td>3.0</td>\n",
       "      <td>2.0</td>\n",
       "      <td>2.0</td>\n",
       "      <td>4.0</td>\n",
       "      <td>1.0</td>\n",
       "      <td>5</td>\n",
       "    </tr>\n",
       "    <tr>\n",
       "      <th>4</th>\n",
       "      <td>0</td>\n",
       "      <td>Ferris Buellers Day Off</td>\n",
       "      <td>Female</td>\n",
       "      <td>Married</td>\n",
       "      <td>1.0</td>\n",
       "      <td>1.0</td>\n",
       "      <td>1.0</td>\n",
       "      <td>1.0</td>\n",
       "      <td>3.0</td>\n",
       "      <td>3.0</td>\n",
       "      <td>1</td>\n",
       "    </tr>\n",
       "    <tr>\n",
       "      <th>...</th>\n",
       "      <td>...</td>\n",
       "      <td>...</td>\n",
       "      <td>...</td>\n",
       "      <td>...</td>\n",
       "      <td>...</td>\n",
       "      <td>...</td>\n",
       "      <td>...</td>\n",
       "      <td>...</td>\n",
       "      <td>...</td>\n",
       "      <td>...</td>\n",
       "      <td>...</td>\n",
       "    </tr>\n",
       "    <tr>\n",
       "      <th>325</th>\n",
       "      <td>0</td>\n",
       "      <td>Old School</td>\n",
       "      <td>2</td>\n",
       "      <td>2</td>\n",
       "      <td>1.0</td>\n",
       "      <td>2.0</td>\n",
       "      <td>1.0</td>\n",
       "      <td>1.0</td>\n",
       "      <td>2.0</td>\n",
       "      <td>1.0</td>\n",
       "      <td>1</td>\n",
       "    </tr>\n",
       "    <tr>\n",
       "      <th>326</th>\n",
       "      <td>0</td>\n",
       "      <td>Old School</td>\n",
       "      <td>1</td>\n",
       "      <td>1</td>\n",
       "      <td>2.0</td>\n",
       "      <td>2.0</td>\n",
       "      <td>2.0</td>\n",
       "      <td>2.0</td>\n",
       "      <td>3.0</td>\n",
       "      <td>3.0</td>\n",
       "      <td>5</td>\n",
       "    </tr>\n",
       "    <tr>\n",
       "      <th>327</th>\n",
       "      <td>0</td>\n",
       "      <td>Old School</td>\n",
       "      <td>2</td>\n",
       "      <td>1</td>\n",
       "      <td>2.0</td>\n",
       "      <td>1.0</td>\n",
       "      <td>1.0</td>\n",
       "      <td>2.0</td>\n",
       "      <td>2.0</td>\n",
       "      <td>2.0</td>\n",
       "      <td>5</td>\n",
       "    </tr>\n",
       "    <tr>\n",
       "      <th>328</th>\n",
       "      <td>0</td>\n",
       "      <td>Old School</td>\n",
       "      <td>1</td>\n",
       "      <td>1</td>\n",
       "      <td>1.0</td>\n",
       "      <td>1.0</td>\n",
       "      <td>1.0</td>\n",
       "      <td>1.0</td>\n",
       "      <td>2.0</td>\n",
       "      <td>1.0</td>\n",
       "      <td>3</td>\n",
       "    </tr>\n",
       "    <tr>\n",
       "      <th>329</th>\n",
       "      <td>0</td>\n",
       "      <td>Old School</td>\n",
       "      <td>2</td>\n",
       "      <td>2</td>\n",
       "      <td>2.0</td>\n",
       "      <td>2.0</td>\n",
       "      <td>3.0</td>\n",
       "      <td>1.0</td>\n",
       "      <td>2.0</td>\n",
       "      <td>1.0</td>\n",
       "      <td>5</td>\n",
       "    </tr>\n",
       "  </tbody>\n",
       "</table>\n",
       "<p>330 rows × 11 columns</p>\n",
       "</div>"
      ],
      "text/plain": [
       "     _rowstate_                    Movie  Gender Marital_Status  Sinage  \\\n",
       "0             0  Ferris Buellers Day Off  Female        Married     2.0   \n",
       "1             0  Ferris Buellers Day Off  Female         Single     1.0   \n",
       "2             0  Ferris Buellers Day Off    Male        Married     2.0   \n",
       "3             0  Ferris Buellers Day Off  Female        Married     1.0   \n",
       "4             0  Ferris Buellers Day Off  Female        Married     1.0   \n",
       "..          ...                      ...     ...            ...     ...   \n",
       "325           0               Old School       2              2     1.0   \n",
       "326           0               Old School       1              1     2.0   \n",
       "327           0               Old School       2              1     2.0   \n",
       "328           0               Old School       1              1     1.0   \n",
       "329           0               Old School       2              2     2.0   \n",
       "\n",
       "     Parking  Clean  Overall  Age  Income Hear_About  \n",
       "0        2.0    2.0      2.0  3.0     1.0          5  \n",
       "1        1.0    1.0      1.0  2.0     1.0          5  \n",
       "2        4.0    3.0      2.0  4.0     1.0          5  \n",
       "3        3.0    2.0      2.0  4.0     1.0          5  \n",
       "4        1.0    1.0      1.0  3.0     3.0          1  \n",
       "..       ...    ...      ...  ...     ...        ...  \n",
       "325      2.0    1.0      1.0  2.0     1.0          1  \n",
       "326      2.0    2.0      2.0  3.0     3.0          5  \n",
       "327      1.0    1.0      2.0  2.0     2.0          5  \n",
       "328      1.0    1.0      1.0  2.0     1.0          3  \n",
       "329      2.0    3.0      1.0  2.0     1.0          5  \n",
       "\n",
       "[330 rows x 11 columns]"
      ]
     },
     "execution_count": 707,
     "metadata": {},
     "output_type": "execute_result"
    }
   ],
   "source": [
    "films_df = pd.read_csv('Films.csv')\n",
    "films_df"
   ]
  },
  {
   "cell_type": "code",
   "execution_count": 709,
   "id": "01f2b4d4-bd84-4399-8c17-9012aa386ca3",
   "metadata": {},
   "outputs": [
    {
     "name": "stdout",
     "output_type": "stream",
     "text": [
      "<class 'pandas.core.frame.DataFrame'>\n",
      "RangeIndex: 330 entries, 0 to 329\n",
      "Data columns (total 11 columns):\n",
      " #   Column          Non-Null Count  Dtype  \n",
      "---  ------          --------------  -----  \n",
      " 0   _rowstate_      330 non-null    int64  \n",
      " 1   Movie           330 non-null    object \n",
      " 2   Gender          330 non-null    object \n",
      " 3   Marital_Status  328 non-null    object \n",
      " 4   Sinage          328 non-null    float64\n",
      " 5   Parking         328 non-null    float64\n",
      " 6   Clean           327 non-null    float64\n",
      " 7   Overall         328 non-null    float64\n",
      " 8   Age             328 non-null    float64\n",
      " 9   Income          314 non-null    float64\n",
      " 10  Hear_About      323 non-null    object \n",
      "dtypes: float64(6), int64(1), object(4)\n",
      "memory usage: 28.5+ KB\n"
     ]
    }
   ],
   "source": [
    "films_df.info()"
   ]
  },
  {
   "cell_type": "code",
   "execution_count": 711,
   "id": "8dc882d1-91c1-43b7-84f8-5a974cdf80bd",
   "metadata": {},
   "outputs": [],
   "source": [
    "films_df['Gender'] = np.where((films_df.Gender=='Female')|(films_df.Gender=='2'),'2','1')\n",
    "films_df['Marital_Status'] = np.where((films_df.Marital_Status=='Married')|(films_df.Marital_Status=='1'),'1','2')"
   ]
  },
  {
   "cell_type": "code",
   "execution_count": 713,
   "id": "a10d53ba-aed1-4282-8c5b-ea2d8ae6f28d",
   "metadata": {},
   "outputs": [],
   "source": [
    "for col in films_df:\n",
    "    films_df[col] = np.where(films_df[col].isna(),films_df[col].mode()[0],films_df[col])"
   ]
  },
  {
   "cell_type": "code",
   "execution_count": 715,
   "id": "5e56bf7f-fb67-4678-931f-d214d05a5c8f",
   "metadata": {},
   "outputs": [
    {
     "data": {
      "text/plain": [
       "_rowstate_        0\n",
       "Movie             0\n",
       "Gender            0\n",
       "Marital_Status    0\n",
       "Sinage            0\n",
       "Parking           0\n",
       "Clean             0\n",
       "Overall           0\n",
       "Age               0\n",
       "Income            0\n",
       "Hear_About        0\n",
       "dtype: int64"
      ]
     },
     "execution_count": 715,
     "metadata": {},
     "output_type": "execute_result"
    }
   ],
   "source": [
    "films_df.isna().sum()"
   ]
  },
  {
   "cell_type": "markdown",
   "id": "6f29a976-3e62-4b02-b828-15d814a40d59",
   "metadata": {},
   "source": [
    "### 1.What is the overall level of customer satisfaction? "
   ]
  },
  {
   "cell_type": "code",
   "execution_count": 718,
   "id": "6b04d324-72bf-4f3b-9a32-e06281594e49",
   "metadata": {},
   "outputs": [
    {
     "data": {
      "text/plain": [
       "Overall\n",
       "2.0    0.490909\n",
       "1.0    0.457576\n",
       "3.0    0.036364\n",
       "5.0    0.012121\n",
       "4.0    0.003030\n",
       "Name: count, dtype: float64"
      ]
     },
     "execution_count": 718,
     "metadata": {},
     "output_type": "execute_result"
    }
   ],
   "source": [
    "films_df.Overall.value_counts()/films_df.Overall.value_counts().sum()"
   ]
  },
  {
   "cell_type": "code",
   "execution_count": 720,
   "id": "00272dca-7885-4ebc-b623-2cb48a508c02",
   "metadata": {},
   "outputs": [],
   "source": [
    "## The overall 90 percent of customer satisfaction is level 1 and 2 which is Excellent and good respectively."
   ]
  },
  {
   "cell_type": "markdown",
   "id": "5442f5c6-c9c9-44d8-847e-7710fee2bd24",
   "metadata": {},
   "source": [
    "### 2.What factors are linked to satisfaction? \n",
    "the factors which are related to satisfaction are Signage,Parking,Clean,Overall"
   ]
  },
  {
   "cell_type": "markdown",
   "id": "2785f0fa-9b2f-4f11-a30e-b2ba175bb8ab",
   "metadata": {},
   "source": [
    "#### Signage and overall satisfaction,\n",
    "##### 1. Define Null Hypothesis, H0:\n",
    "         Signage and overall staisfaction are not related\n",
    "##### 2. Define Alternate Hypothesis, Ha:\n",
    "         Signage and overall staisfaction are  related   \n",
    "##### 3. At CI = 95%:\n",
    "         p-value = 0.05\n",
    "##### 4. Performing the test:\n",
    "          chisquare test\n"
   ]
  },
  {
   "cell_type": "code",
   "execution_count": 724,
   "id": "a8e19088-263c-407f-b0a4-f7e0889142f0",
   "metadata": {},
   "outputs": [
    {
     "name": "stdout",
     "output_type": "stream",
     "text": [
      "p-value 4.53298970003405e-19\n"
     ]
    }
   ],
   "source": [
    "obs_freq = pd.crosstab(films_df.Sinage,films_df.Overall)\n",
    "obs_freq\n",
    "print('p-value',stats.chi2_contingency(obs_freq)[1])\n"
   ]
  },
  {
   "cell_type": "markdown",
   "id": "eba1bcda-721f-4669-b382-7c906f5b6fcb",
   "metadata": {},
   "source": [
    "##### 5. Rejection Rules:\n",
    "        Since the new  p-value < 0.05, we reject H0\n",
    "##### 6. Business Conclusion:\n",
    "        Based on the above analysis we can conclude that Signage and overall satisfaction are dependant"
   ]
  },
  {
   "cell_type": "markdown",
   "id": "93f82267-f043-40c0-8eca-74678ca981b5",
   "metadata": {},
   "source": [
    "#### Parking and overall satisfaction,\n",
    "##### 1. Define Null Hypothesis, H0:\n",
    "         parking and overall staisfaction are not related\n",
    "##### 2. Define Alternate Hypothesis, Ha:\n",
    "         parking and overall staisfaction are  related   \n",
    "##### 3. At CI = 95%:\n",
    "         p-value = 0.05\n",
    "##### 4. Performing the test:\n",
    "          chisquare test"
   ]
  },
  {
   "cell_type": "code",
   "execution_count": 728,
   "id": "0d863c72-86b6-4ba7-89dc-374a98daae81",
   "metadata": {},
   "outputs": [
    {
     "name": "stdout",
     "output_type": "stream",
     "text": [
      "p-value 4.783162283608494e-40\n"
     ]
    }
   ],
   "source": [
    "obs_freq = pd.crosstab(films_df.Parking,films_df.Overall)\n",
    "print('p-value',stats.chi2_contingency(obs_freq)[1])"
   ]
  },
  {
   "cell_type": "markdown",
   "id": "ede52c89-7111-4627-93a7-58fb8b713ff3",
   "metadata": {},
   "source": [
    "##### 5. Rejection Rules:\n",
    "        Since the new  p-value < 0.05, we reject H0\n",
    "##### 6. Business Conclusion:\n",
    "        Based on the above analysis we can conclude that parking and overall satisfaction are dependant"
   ]
  },
  {
   "cell_type": "markdown",
   "id": "255b09e8-2ec7-4ea6-b991-e21b0b55436b",
   "metadata": {},
   "source": [
    "#### clean and overall satisfaction,\n",
    "##### 1. Define Null Hypothesis, H0:\n",
    "         cleanliness and overall staisfaction are not related\n",
    "##### 2. Define Alternate Hypothesis, Ha:\n",
    "         cleanliness and overall staisfaction are  related   \n",
    "##### 3. At CI = 95%:\n",
    "         p-value = 0.05\n",
    "##### 4. Performing the test:\n",
    "          chisquare test"
   ]
  },
  {
   "cell_type": "code",
   "execution_count": 732,
   "id": "dd82674a-5883-411c-82a0-8522dfe52930",
   "metadata": {},
   "outputs": [
    {
     "name": "stdout",
     "output_type": "stream",
     "text": [
      "p-value 1.7772535915434025e-19\n"
     ]
    }
   ],
   "source": [
    "obs_freq = pd.crosstab(films_df.Clean,films_df.Overall)\n",
    "print('p-value',stats.chi2_contingency(obs_freq)[1])"
   ]
  },
  {
   "cell_type": "markdown",
   "id": "144d188e-7af8-4f3b-b263-91d61cbe2109",
   "metadata": {},
   "source": [
    "##### 5. Rejection Rules:\n",
    "        Since the new  p-value < 0.05, we reject H0\n",
    "##### 6. Business Conclusion:\n",
    "        Based on the above analysis we can conclude that cleanliness and overall satisfaction are dependant"
   ]
  },
  {
   "cell_type": "markdown",
   "id": "a43e8dfa-8204-4d23-a177-99a80f1f4964",
   "metadata": {},
   "source": [
    "#### 3.What is the demographic profile of Film on the Rocks patrons?\n",
    "With the given data the demopraphic profile includes age,gender and income of the people. "
   ]
  },
  {
   "cell_type": "code",
   "execution_count": 736,
   "id": "754664e4-9292-41e3-9fa9-844b2e826bf6",
   "metadata": {},
   "outputs": [
    {
     "name": "stdout",
     "output_type": "stream",
     "text": [
      "  Gender  count   percent\n",
      "0      1    117  0.354545\n",
      "1      2    213  0.645455\n",
      " the 64 % patrons are female and remaining are male\n"
     ]
    }
   ],
   "source": [
    "# Gender\n",
    "Gender = films_df.groupby('Gender')['Gender'].value_counts()\n",
    "Gender= Gender.rename({'Gender':'Count'}).reset_index()\n",
    "Gender['percent'] = Gender['count']/Gender['count'].sum()\n",
    "print(Gender)\n",
    "#The patron’s gender: 1 = male; 2 = female \n",
    "print(\" the 64 % patrons are female and remaining are male\")"
   ]
  },
  {
   "cell_type": "code",
   "execution_count": 738,
   "id": "35c81952-9029-4cdf-b931-686a2c47f1b8",
   "metadata": {},
   "outputs": [
    {
     "name": "stdout",
     "output_type": "stream",
     "text": [
      "   Age  count   percent\n",
      "0  1.0     26  0.078788\n",
      "1  2.0    177  0.536364\n",
      "2  3.0    117  0.354545\n",
      "3  4.0     10  0.030303\n",
      "the 53% Age of patrons lies from 13 to 30 and 35% lies between 31 and 60. The remaining are either below 12 or above 60\n"
     ]
    }
   ],
   "source": [
    "# Age\n",
    "Age = films_df.groupby('Age')['Age'].value_counts()\n",
    "Age= Age.rename({'Age':'Count'}).reset_index()\n",
    "Age['percent'] = Age['count']/Age['count'].sum()\n",
    "print(Age)\n",
    "\n",
    "# The patron’s age in years: 1= 1-12; 2 = 13-30; 3 = 31-60; 4 = 60+ \n",
    "print (\"the 53% Age of patrons lies from 13 to 30 and 35% lies between 31 and 60. The remaining are either below 12 or above 60\")"
   ]
  },
  {
   "cell_type": "code",
   "execution_count": 740,
   "id": "6f10eff6-8d33-4909-908d-c1f8fc001625",
   "metadata": {},
   "outputs": [
    {
     "name": "stdout",
     "output_type": "stream",
     "text": [
      "   Income  count   percent\n",
      "0     1.0    158  0.478788\n",
      "1     2.0     82  0.248485\n",
      "2     3.0     90  0.272727\n",
      "47% of patrons are with income less than $50000\n"
     ]
    }
   ],
   "source": [
    "# Income \n",
    "Income = films_df.groupby('Income')['Income'].value_counts()\n",
    "Income= Income.rename({'Income':'Count'}).reset_index()\n",
    "Income['percent'] = Income['count']/Income['count'].sum()\n",
    "#The patron’s annual household income: 1 = Less than $50,000; 2 = $50,000- $100,000; 3 = $100,000+\n",
    "print(Income)\n",
    "print(\"47% of patrons are with income less than $50000\")"
   ]
  },
  {
   "cell_type": "markdown",
   "id": "0570814a-f174-46f5-a6a7-31b3d137566d",
   "metadata": {},
   "source": [
    "### 4.In what media outlet(s) should the film series be advertised?"
   ]
  },
  {
   "cell_type": "code",
   "execution_count": 743,
   "id": "7f98e6a7-e24b-435e-b706-054a3ba6b392",
   "metadata": {},
   "outputs": [
    {
     "data": {
      "text/plain": [
       "Hear_About\n",
       "5      233\n",
       "4       41\n",
       "1       22\n",
       "3       14\n",
       "2       12\n",
       "2,5      2\n",
       "3,4      2\n",
       "4,5      1\n",
       "1,5      1\n",
       "5,4      1\n",
       "3,5      1\n",
       "Name: count, dtype: int64"
      ]
     },
     "execution_count": 743,
     "metadata": {},
     "output_type": "execute_result"
    }
   ],
   "source": [
    "films_df.Hear_About.value_counts()"
   ]
  },
  {
   "cell_type": "code",
   "execution_count": 745,
   "id": "d869d18e-3a10-4b90-9642-106340b64e3b",
   "metadata": {},
   "outputs": [
    {
     "name": "stdout",
     "output_type": "stream",
     "text": [
      "   Hear_About  count   percent\n",
      "9           5    233  0.706061\n",
      "7           4     41  0.124242\n",
      "0           1     22  0.066667\n",
      "4           3     14  0.042424\n",
      "2           2     12  0.036364\n",
      "3         2,5      2  0.006061\n",
      "5         3,4      2  0.006061\n",
      "1         1,5      1  0.003030\n",
      "6         3,5      1  0.003030\n",
      "8         4,5      1  0.003030\n",
      "10        5,4      1  0.003030\n",
      "70% of Respondents got to know by 'word of mount' \n"
     ]
    }
   ],
   "source": [
    "Hear_about = films_df.groupby('Hear_About')['Hear_About'].value_counts()\n",
    "Hear_about= Hear_about.rename({'Hear_About':'Count'}).reset_index()\n",
    "Hear_about['percent'] = Hear_about['count']/Hear_about['count'].sum()\n",
    "print(Hear_about.sort_values('percent',ascending = False))\n",
    "\n",
    "#1 = television; 2 = newspaper; 3 = radio; 4 = website; 5 = word of mouth\n",
    "print(\"70% of Respondents got to know by 'word of mount' \")"
   ]
  },
  {
   "cell_type": "code",
   "execution_count": null,
   "id": "500a8807-6572-4e1e-961d-32c767a2b558",
   "metadata": {},
   "outputs": [],
   "source": []
  },
  {
   "cell_type": "code",
   "execution_count": null,
   "id": "78120b7e-f69c-4b57-99c8-30ecc425268f",
   "metadata": {},
   "outputs": [],
   "source": []
  },
  {
   "cell_type": "code",
   "execution_count": null,
   "id": "7477ba73-34a0-4fe0-ac10-cfada05f8c65",
   "metadata": {},
   "outputs": [],
   "source": []
  }
 ],
 "metadata": {
  "kernelspec": {
   "display_name": "Python 3 (ipykernel)",
   "language": "python",
   "name": "python3"
  },
  "language_info": {
   "codemirror_mode": {
    "name": "ipython",
    "version": 3
   },
   "file_extension": ".py",
   "mimetype": "text/x-python",
   "name": "python",
   "nbconvert_exporter": "python",
   "pygments_lexer": "ipython3",
   "version": "3.11.7"
  }
 },
 "nbformat": 4,
 "nbformat_minor": 5
}
